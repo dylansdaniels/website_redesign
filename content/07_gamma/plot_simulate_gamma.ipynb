{
  "cells": [
    {
      "cell_type": "markdown",
      "metadata": {},
      "source": [
        "\n",
        "# 03. Simulate Gamma Rhythms\n",
        "\n",
        "This example demonstrates how to simulate gamma rhythms via the well\n",
        "established pyramidal-interneuron-gamma mechanisms [1],\n",
        "as detailed in the [HNN GUI gamma tutorial](),\n",
        "using HNN-Core.\n",
        "\n",
        "We recommend you first review the GUI tutorial.\n",
        "The workflow below recreates weak gamma rhythms similar to Figures 4 and 5\n",
        "of the GUI tutorial, and strong gamma rhythms similar to Figure 12 and 13\n",
        "in the GUI tutorial.\n"
      ]
    },
    {
      "cell_type": "code",
      "execution_count": null,
      "metadata": {
        "collapsed": false
      },
      "outputs": [],
      "source": [
        "# Authors: Mainak Jas <mjas@mgh.harvard.edu>\n",
        "#          Sam Neymotin <samnemo@gmail.com>\n",
        "#          Christopher Bailey <bailey.cj@gmail.com>\n",
        "\n",
        "# sphinx_gallery_thumbnail_number = 2\n",
        "\n",
        "import os.path as op"
      ]
    },
    {
      "cell_type": "markdown",
      "metadata": {},
      "source": [
        "Let us import hnn_core\n",
        "\n"
      ]
    },
    {
      "cell_type": "code",
      "execution_count": null,
      "metadata": {
        "collapsed": false
      },
      "outputs": [],
      "source": [
        "import hnn_core\n",
        "import matplotlib.pyplot as plt\n",
        "from hnn_core import simulate_dipole, read_params, jones_2009_model\n",
        "\n",
        "hnn_core_root = op.dirname(hnn_core.__file__)"
      ]
    },
    {
      "cell_type": "markdown",
      "metadata": {},
      "source": [
        "Read the parameter file and print the between-cell connectivity parameters.\n",
        "Note that these are different compared with the 'default' parameter set used in, e.g., `sphx_glr_auto_examples_workflows_plot_simulate_alpha.py`.\n",
        "\n"
      ]
    },
    {
      "cell_type": "code",
      "execution_count": null,
      "metadata": {
        "collapsed": false
      },
      "outputs": [],
      "source": [
        "params_fname = op.join(\n",
        "    hnn_core_root,\n",
        "    'param',\n",
        "    'gamma_L5weak_L2weak.json'\n",
        ")\n",
        "params = read_params(params_fname)\n",
        "print(params['gbar_L*'])"
      ]
    },
    {
      "cell_type": "markdown",
      "metadata": {},
      "source": [
        "We'll next add a tonic Poisson-distributed excitation to pyramidal cells"
      ]
    },
    {
      "cell_type": "code",
      "execution_count": null,
      "metadata": {
        "collapsed": false
      },
      "outputs": [],
      "source": [
        "net = jones_2009_model(params)\n",
        "\n",
        "weights_ampa = {\n",
        "    'L2_pyramidal': 0.0008,\n",
        "    'L5_pyramidal': 0.0075,\n",
        "}\n",
        "synaptic_delays = {\n",
        "    'L2_pyramidal': 0.1,\n",
        "    'L5_pyramidal': 1.0,\n",
        "}\n",
        "rate_constant = {\n",
        "    'L2_pyramidal': 140.0,\n",
        "    'L5_pyramidal': 40.0,\n",
        "}\n",
        "net.add_poisson_drive(\n",
        "    'poisson',\n",
        "    rate_constant=rate_constant,\n",
        "    weights_ampa=weights_ampa,\n",
        "    location='proximal',\n",
        "    synaptic_delays=synaptic_delays,\n",
        "    event_seed=1349\n",
        ")"
      ]
    },
    {
      "cell_type": "markdown",
      "metadata": {},
      "source": [
        "And then we'll simulate the dipole moment in a single trial. (Note: the default value used by `simulate_dipole` is n_trials=params[\"N_trials\"].)"
      ]
    },
    {
      "cell_type": "code",
      "execution_count": null,
      "metadata": {
        "collapsed": false
      },
      "outputs": [],
      "source": [
        "dpls = simulate_dipole(\n",
        "    net,\n",
        "    tstop=250.,\n",
        ")\n",
        "scaling_factor = 30000\n",
        "dpls = [dpl.scale(scaling_factor) for dpl in dpls]  # scale in place"
      ]
    },
    {
      "cell_type": "markdown",
      "metadata": {},
      "source": [
        "Take a look at how different cell types respond to the exogenous drive. Note\n",
        "the periodic firing pattern of all cell types. While the basket cells fire\n",
        "relatively synchronously, the pyramidal cell populations display a more\n",
        "varied pattern, in which only a fraction of cells reach firing threshold.\n",
        "\n"
      ]
    },
    {
      "cell_type": "code",
      "execution_count": null,
      "metadata": {
        "collapsed": false
      },
      "outputs": [],
      "source": [
        "_ = net.cell_response.plot_spikes_raster()\n",
        "\n",
        "plt.show()"
      ]
    },
    {
      "cell_type": "markdown",
      "metadata": {},
      "source": [
        "To confirm that the periodicity observed in the firing patterns correspond to\n",
        "a population oscillation in the gamma-range, we can plot the time-frequency\n",
        "representation together with the signal. Note that the network requires some\n",
        "time to reach steady state. Hence, we omit the first 50 ms in our analysis.\n",
        "\n"
      ]
    },
    {
      "cell_type": "code",
      "execution_count": null,
      "metadata": {
        "collapsed": false
      },
      "outputs": [],
      "source": [
        "tmin = 50\n",
        "trial_idx = 0  # pick first trial\n",
        "\n",
        "# plot dipole time course and time-frequency\n",
        "# representation in same figure\n",
        "import numpy as np\n",
        "import matplotlib.pyplot as plt\n",
        "\n",
        "fig, axes = plt.subplots(\n",
        "    nrows=2,\n",
        "    ncols=1,\n",
        "    sharex=True,\n",
        "    figsize=(6, 6),\n",
        "    constrained_layout=True,\n",
        ")\n",
        "\n",
        "dpls[trial_idx].plot(\n",
        "    tmin=tmin,\n",
        "    ax=axes[0],\n",
        "    show=False,\n",
        ")\n",
        "\n",
        "# Create an fixed-step tiling of frequencies \n",
        "# from 20 to 100 Hz in steps of 1 Hz\n",
        "freqs = np.arange(20., 100., 1.)\n",
        "dpls[trial_idx].plot_tfr_morlet(\n",
        "    freqs,\n",
        "    n_cycles=7,\n",
        "    tmin=tmin,\n",
        "    ax=axes[1],\n",
        "    show=False,\n",
        ")\n",
        "\n",
        "# adjust the bounds of the x axis in the spectrogram\n",
        "axes[1].set_xlim(tmin, 250)\n",
        "\n",
        "plt.show()"
      ]
    },
    {
      "cell_type": "markdown",
      "metadata": {},
      "source": [
        "Now, let us try to re-run the simulation with a tonic bias\n",
        "applied to the L5 Pyramidal cells. Notice that the oscillation waveform is\n",
        "more regular, with less noise due to the fact that the tonic depolarization\n",
        "dominates over the influence of the Poisson drive. By default, a tonic bias\n",
        "is applied to the entire duration of the simulation.\n",
        "\n"
      ]
    },
    {
      "cell_type": "code",
      "execution_count": null,
      "metadata": {
        "collapsed": false
      },
      "outputs": [],
      "source": [
        "net.add_tonic_bias(\n",
        "    cell_type='L5_pyramidal',\n",
        "    amplitude=6.,\n",
        ")\n",
        "dpls = simulate_dipole(\n",
        "    net,\n",
        "    tstop=250.,\n",
        "    n_trials=1,\n",
        ")\n",
        "dpls = [dpl.scale(scaling_factor) for dpl in dpls]  # scale in place"
      ]
    },
    {
      "cell_type": "code",
      "execution_count": null,
      "metadata": {},
      "outputs": [],
      "source": [
        "_ = dpls[trial_idx].plot()\n",
        "\n",
        "plt.show()"
      ]
    },
    {
      "cell_type": "markdown",
      "metadata": {},
      "source": [
        "Notice that the Layer 5 pyramidal neurons now fire nearly synchronously,\n",
        "leading to a synchronous activation of the inhibitory basket neurons,\n",
        "resulting in a low-latency IPSP back onto the pyramidal cells. The duration\n",
        "of the IPSP is ~20 ms, after which the combined effect of the tonic bias and\n",
        "Poisson drive is to bring the pyramidal cells back to firing threshold,\n",
        "creating a ~50 Hz PING rhythm. This type of synchronous rhythm is sometimes\n",
        "referred to as “strong” PING.\n",
        "\n"
      ]
    },
    {
      "cell_type": "code",
      "execution_count": null,
      "metadata": {
        "collapsed": false
      },
      "outputs": [],
      "source": [
        "_ = net.cell_response.plot_spikes_raster()\n",
        "\n",
        "plt.show()"
      ]
    },
    {
      "cell_type": "markdown",
      "metadata": {},
      "source": [
        "Although the simulated dipole signal demonstrates clear periodicity, its\n",
        "frequency is lower compared with the \"weak\" PING simulation above.\n",
        "\n"
      ]
    },
    {
      "cell_type": "code",
      "execution_count": null,
      "metadata": {
        "collapsed": false
      },
      "outputs": [],
      "source": [
        "from hnn_core.viz import plot_psd\n",
        "_ = plot_psd(\n",
        "    dpls[trial_idx],\n",
        "    fmin=20.,\n",
        "    fmax=100.,\n",
        "    tmin=tmin,\n",
        ")\n",
        "\n",
        "plt.show()"
      ]
    },
    {
      "cell_type": "markdown",
      "metadata": {},
      "source": [
        "Finally, we demonstrate the mechanistic link between PING and the GABAA decay\n",
        "time constant (`tau2`). Using the same network/drive configuration as before,\n",
        "we decrease `tau2` from 5 to 2 ms.\n",
        "\n"
      ]
    },
    {
      "cell_type": "code",
      "execution_count": null,
      "metadata": {
        "collapsed": false
      },
      "outputs": [],
      "source": [
        "net.cell_types['L5_pyramidal'].synapses['gabaa']['tau2'] = 2\n",
        "\n",
        "dpls = simulate_dipole(\n",
        "    net,\n",
        "    tstop=250.,\n",
        "    n_trials=1,\n",
        ")\n",
        "dpls = [dpl.scale(scaling_factor) for dpl in dpls]  # scale in place"
      ]
    },
    {
      "cell_type": "markdown",
      "metadata": {},
      "source": [
        "This change will shorten the effective refactory period between L5 pyramidal cell spikes and increase the PING\n",
        "frequency from ~50 to ~65 Hz, as seen in the plots below"
      ]
    },
    {
      "cell_type": "code",
      "execution_count": null,
      "metadata": {},
      "outputs": [],
      "source": [
        "fig, axes = plt.subplots(\n",
        "    nrows=3,\n",
        "    ncols=1,\n",
        "    sharex=True,\n",
        "    figsize=(6, 6),\n",
        "    constrained_layout=True,\n",
        ")\n",
        "\n",
        "dpls[trial_idx].plot(\n",
        "    ax=axes[0],\n",
        "    show=False,\n",
        ")\n",
        "\n",
        "net.cell_response.plot_spikes_raster(\n",
        "    ax=axes[1],\n",
        "    show=False,\n",
        ")\n",
        "\n",
        "dpls[trial_idx].plot_tfr_morlet(\n",
        "    freqs,\n",
        "    n_cycles=7,\n",
        "    tmin=tmin,\n",
        "    ax=axes[2],\n",
        "    show=False,\n",
        ")\n",
        "\n",
        "# adjust the bounds of the x axis in the spectrogram\n",
        "axes[2].set_xlim(tmin, 250)\n",
        "\n",
        "plt.show()"
      ]
    },
    {
      "cell_type": "markdown",
      "metadata": {},
      "source": [
        "## References\n",
        "[1] Lee, S. & Jones, S. R. Distinguishing mechanisms of gamma frequency\n",
        "       oscillations in human current source signals using a computational\n",
        "       model of a laminar neocortical network. Frontiers in human\n",
        "       neuroscience (2013)\n",
        "\n"
      ]
    }
  ],
  "metadata": {
    "kernelspec": {
      "display_name": "website-redesign",
      "language": "python",
      "name": "python3"
    },
    "language_info": {
      "codemirror_mode": {
        "name": "ipython",
        "version": 3
      },
      "file_extension": ".py",
      "mimetype": "text/x-python",
      "name": "python",
      "nbconvert_exporter": "python",
      "pygments_lexer": "ipython3",
      "version": "3.12.8"
    }
  },
  "nbformat": 4,
  "nbformat_minor": 0
}
