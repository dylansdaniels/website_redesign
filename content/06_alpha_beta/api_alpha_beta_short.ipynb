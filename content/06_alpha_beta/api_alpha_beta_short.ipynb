{
  "cells": [
    {
      "cell_type": "markdown",
      "metadata": {},
      "source": [
        "\n",
        "# 5.2 API Tutorial of Alpha/Beta Rhythms\n",
        "\n",
        "This example demonstrates how to simulate alpha and beta frequency\n",
        "activity in the alpha/beta complex of the SI mu-rhythm [1]_,\n",
        "as detailed in the [HNN GUI alpha and beta tutorial](https://jonescompneurolab.github.io/hnn-tutorials/alpha_and_beta/alpha_and_beta),\n",
        "using HNN-Core.\n",
        "\n",
        "We recommend you first review the GUI tutorial. The workflow below recreates\n",
        "the alpha only rhythm, similar to Figure 5 of the GUI tutorial, and the\n",
        "alpha/beta complex similar to Figure 20 in the GUI tutorial, albeit without\n",
        "visualization of the corresponding time-frequency spectrograms [1]_.\n"
      ]
    },
    {
      "cell_type": "code",
      "execution_count": null,
      "metadata": {
        "collapsed": false
      },
      "outputs": [],
      "source": [
        "# Authors: Mainak Jas <mjas@mgh.harvard.edu>\n",
        "#          Sam Neymotin <samnemo@gmail.com>\n",
        "#          Nick Tolley <nicholas_tolley@brown.edu>\n",
        "#          Christopher Bailey <bailey.cj@gmail.com>\n",
        "\n",
        "import os.path as op"
      ]
    },
    {
      "cell_type": "markdown",
      "metadata": {},
      "source": [
        "Let us import hnn_core\n",
        "\n"
      ]
    },
    {
      "cell_type": "code",
      "execution_count": null,
      "metadata": {
        "collapsed": false
      },
      "outputs": [],
      "source": [
        "import hnn_core\n",
        "from hnn_core import simulate_dipole, jones_2009_model"
      ]
    },
    {
      "cell_type": "markdown",
      "metadata": {},
      "source": [
        "Now let's simulate the dipole and plot it. To excite the network, we add a\n",
        "~10 Hz \"bursty\" drive starting at 50 ms and continuing to the end of the\n",
        "simulation. Each burst consists of a pair (2) of spikes, spaced 10 ms apart.\n",
        "The occurrence of each burst is jittered by a random, normally distributed\n",
        "amount (20 ms standard deviation). We repeat the burst train 10 times, each\n",
        "time with unique randomization. The drive is only connected to the \n",
        ":term:`proximal` (dendritic) AMPA synapses on L2/3 and L5 pyramidal neurons.\n",
        "\n"
      ]
    },
    {
      "cell_type": "code",
      "execution_count": null,
      "metadata": {
        "collapsed": false
      },
      "outputs": [],
      "source": [
        "net = jones_2009_model()\n",
        "\n",
        "location = 'proximal'\n",
        "burst_std = 20\n",
        "weights_ampa_p = {'L2_pyramidal': 5.4e-5, 'L5_pyramidal': 5.4e-5}\n",
        "syn_delays_p = {'L2_pyramidal': 0.1, 'L5_pyramidal': 1.}\n",
        "\n",
        "net.add_bursty_drive(\n",
        "    'alpha_prox', tstart=50., burst_rate=10, burst_std=burst_std, numspikes=2,\n",
        "    spike_isi=10, n_drive_cells=10, location=location,\n",
        "    weights_ampa=weights_ampa_p, synaptic_delays=syn_delays_p, event_seed=284)\n",
        "\n",
        "# simulate the dipole, but do not automatically scale or smooth the result\n",
        "dpl = simulate_dipole(net, tstop=310., n_trials=1)\n",
        "\n",
        "trial_idx = 0  # single trial simulated, choose the first index\n",
        "# to emulate a larger patch of cortex, we can apply a simple scaling factor\n",
        "dpl[trial_idx].scale(3000)"
      ]
    },
    {
      "cell_type": "markdown",
      "metadata": {},
      "source": [
        "Prior to plotting, we can choose to smooth the dipole waveform (note that the\n",
        ":meth:`~hnn_core.dipole.smooth`-method operates in-place, *i.e.*, it alters\n",
        "the data inside the ``Dipole`` object). Smoothing approximates the effect of\n",
        "signal summation from a larger number and greater volume of neurons than are\n",
        "included in our biophysical model. We can confirm that what we simulate is\n",
        "indeed 10 Hz activity by plotting the power spectral density (PSD).\n",
        "\n"
      ]
    },
    {
      "cell_type": "code",
      "execution_count": null,
      "metadata": {
        "collapsed": false
      },
      "outputs": [],
      "source": [
        "import matplotlib.pyplot as plt\n",
        "from hnn_core.viz import plot_dipole, plot_psd\n",
        "\n",
        "fig, axes = plt.subplots(2, 1, constrained_layout=True)\n",
        "tmin, tmax = 10, 300  # exclude the initial burn-in period from the plots\n",
        "\n",
        "# We'll make a copy of the dipole before smoothing in order to compare\n",
        "window_len = 20  # convolve with a 20 ms-long Hamming window\n",
        "dpl_smooth = dpl[trial_idx].copy().smooth(window_len)\n",
        "\n",
        "# Overlay the traces for comparison. The function plot_dipole can plot a list\n",
        "# of dipoles at once\n",
        "dpl[trial_idx].plot(tmin=tmin, tmax=tmax, color='b', ax=axes[0], show=False)\n",
        "dpl_smooth.plot(tmin=tmin, tmax=tmax, color='r', ax=axes[0], show=False)\n",
        "axes[0].set_xlim((1, 399))\n",
        "\n",
        "plot_psd(dpl[trial_idx], fmin=1., fmax=1e3, tmin=tmin, ax=axes[1], show=False)\n",
        "axes[1].set_xscale('log')\n",
        "plt.tight_layout()\n",
        "plt.show()"
      ]
    },
    {
      "cell_type": "markdown",
      "metadata": {},
      "source": [
        "The next step is to add a simultaneous 10 Hz :term:`distal` drive with a\n",
        "lower within-burst spread of spike times (``burst_std``) compared with the\n",
        "proximal one. The different arrival times of spikes at opposite ends of\n",
        "the pyramidal cells will tend to produce bursts of 15-30 Hz power known\n",
        "as beta frequency events.\n",
        "\n"
      ]
    },
    {
      "cell_type": "code",
      "execution_count": null,
      "metadata": {
        "collapsed": false
      },
      "outputs": [],
      "source": [
        "location = 'distal'\n",
        "burst_std = 15\n",
        "weights_ampa_d = {'L2_pyramidal': 5.4e-5, 'L5_pyramidal': 5.4e-5}\n",
        "syn_delays_d = {'L2_pyramidal': 5., 'L5_pyramidal': 5.}\n",
        "net.add_bursty_drive(\n",
        "    'alpha_dist', tstart=50., burst_rate=10, burst_std=burst_std, numspikes=2,\n",
        "    spike_isi=10, n_drive_cells=10, location=location,\n",
        "    weights_ampa=weights_ampa_d, synaptic_delays=syn_delays_d, event_seed=296)\n",
        "dpl = simulate_dipole(net, tstop=310., n_trials=1)"
      ]
    },
    {
      "cell_type": "markdown",
      "metadata": {},
      "source": [
        "We can verify that beta frequency activity was produced by inspecting the PSD\n",
        "of the most recent simulation. The dominant power in the signal is shifted\n",
        "from alpha (~10 Hz) to beta (15-25 Hz) frequency range. All plotting and\n",
        "smoothing parameters are as above, but here no scaling is applied, leading to\n",
        "smaller absolute values in the plots.\n",
        "\n"
      ]
    },
    {
      "cell_type": "code",
      "execution_count": null,
      "metadata": {},
      "outputs": [],
      "source": [
        "fig, axes = plt.subplots(3, 1, constrained_layout=True)\n",
        "\n",
        "net.cell_response.plot_spikes_hist(ax=axes[0], show=False)\n",
        "\n",
        "# We'll again make a copy of the dipole before smoothing\n",
        "smooth_dpl = dpl[trial_idx].copy().smooth(window_len)\n",
        "\n",
        "# Note that using the ``plot_*``-functions are available as ``Dipole``-methods:\n",
        "dpl[trial_idx].plot(tmin=tmin, tmax=tmax, ax=axes[1], color='b', show=False)\n",
        "smooth_dpl.plot(tmin=tmin, tmax=tmax, ax=axes[1], color='r', show=False)\n",
        "\n",
        "dpl[trial_idx].plot_psd(fmin=0., fmax=40., tmin=tmin, ax=axes[2], show=False)\n",
        "plt.tight_layout()\n",
        "plt.show()"
      ]
    },
    {
      "cell_type": "markdown",
      "metadata": {},
      "source": [
        "## References\n",
        "\n",
        "[1] Jones, S. R. et al. Quantitative analysis and biophysically realistic neural modeling of the MEG mu rhythm: rhythmogenesis and modulation of sensory-evoked responses. J. Neurophysiol. 102, 3554–3572 (2009).\n",
        "\n"
      ]
    }
  ],
  "metadata": {
    "kernelspec": {
      "display_name": "website-redesign-mpi",
      "language": "python",
      "name": "python3"
    },
    "language_info": {
      "codemirror_mode": {
        "name": "ipython",
        "version": 3
      },
      "file_extension": ".py",
      "mimetype": "text/x-python",
      "name": "python",
      "nbconvert_exporter": "python",
      "pygments_lexer": "ipython3",
      "version": "3.12.9"
    }
  },
  "nbformat": 4,
  "nbformat_minor": 0
}
