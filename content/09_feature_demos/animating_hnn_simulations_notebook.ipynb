{
 "cells": [
  {
   "cell_type": "markdown",
   "metadata": {},
   "source": [
    "\n",
    "# 9.4: Animating HNN simulations\n",
    "\n",
    "This example demonstrates how to animate HNN simulations\n"
   ]
  },
  {
   "cell_type": "code",
   "execution_count": null,
   "metadata": {
    "collapsed": false,
    "jupyter": {
     "outputs_hidden": false
    }
   },
   "outputs": [],
   "source": [
    "# Author: Nick Tolley <nicholas_tolley@brown.edu>"
   ]
  },
  {
   "cell_type": "markdown",
   "metadata": {},
   "source": [
    "First, we'll import the necessary modules for instantiating a network and\n",
    "running a simulation that we would like to animate.\n",
    "\n"
   ]
  },
  {
   "cell_type": "code",
   "execution_count": null,
   "metadata": {
    "collapsed": false,
    "jupyter": {
     "outputs_hidden": false
    }
   },
   "outputs": [],
   "source": [
    "import os.path as op\n",
    "\n",
    "import matplotlib.pyplot as plt\n",
    "\n",
    "import hnn_core\n",
    "from hnn_core import jones_2009_model, simulate_dipole, read_params\n",
    "from hnn_core.network_models import add_erp_drives_to_jones_model"
   ]
  },
  {
   "cell_type": "markdown",
   "metadata": {},
   "source": [
    "We begin by instantiating the network. For this example, we will reduce the\n",
    "number of cells in the network to speed up the simulations.\n",
    "\n"
   ]
  },
  {
   "cell_type": "code",
   "execution_count": null,
   "metadata": {
    "collapsed": false,
    "jupyter": {
     "outputs_hidden": false
    }
   },
   "outputs": [],
   "source": [
    "net = jones_2009_model(mesh_shape=(3, 3))\n",
    "\n",
    "# Note that we move the cells further apart to allow better visualization of\n",
    "# the network (default inplane_distance=1.0 µm).\n",
    "net.set_cell_positions(inplane_distance=300)"
   ]
  },
  {
   "cell_type": "markdown",
   "metadata": {},
   "source": [
    "The \n",
    "[NetworkPlotter](https://jonescompneurolab.github.io/hnn-core/stable/generated/hnn_core.viz.NetworkPlotter.html#hnn_core.viz.NetworkPlotter)\n",
    "class can be used to visualize the 3D structure of the network."
   ]
  },
  {
   "cell_type": "code",
   "execution_count": null,
   "metadata": {
    "collapsed": false,
    "jupyter": {
     "outputs_hidden": false
    }
   },
   "outputs": [],
   "source": [
    "from hnn_core.viz import NetworkPlotter\n",
    "\n",
    "net_plot = NetworkPlotter(net)"
   ]
  },
  {
   "cell_type": "markdown",
   "metadata": {},
   "source": [
    "We can also visualize the network from another angle by adjusting the\n",
    "azimuth and elevation parameters.\n",
    "\n"
   ]
  },
  {
   "cell_type": "code",
   "execution_count": null,
   "metadata": {
    "collapsed": false,
    "jupyter": {
     "outputs_hidden": false
    }
   },
   "outputs": [],
   "source": [
    "net_plot.azim = 45\n",
    "net_plot.elev = 40\n",
    "net_plot.fig"
   ]
  },
  {
   "cell_type": "markdown",
   "metadata": {},
   "source": [
    "Next we add event related potential (ERP) producing drives to the network\n",
    "and run the simulation (see the\n",
    "[ERP simulation](https://dylansdaniels.github.io/website_redesign/content/05_erps/hnn_core.html)\n",
    "for more details).\n",
    "To visualize the membrane potential of cells in the\n",
    "network, we need to pass `record_vsec='all'` to `simulate_dipole(...)`, which turns\n",
    "on the recording of voltages in all sections of all cells in the network."
   ]
  },
  {
   "cell_type": "code",
   "execution_count": null,
   "metadata": {
    "collapsed": false,
    "jupyter": {
     "outputs_hidden": false
    }
   },
   "outputs": [],
   "source": [
    "add_erp_drives_to_jones_model(net)\n",
    "dpl = simulate_dipole(net, tstop=170, record_vsec='all')\n",
    "net_plot = NetworkPlotter(net)  # Reinitialize plotter with simulated network"
   ]
  },
  {
   "cell_type": "markdown",
   "metadata": {},
   "source": [
    "Finally, we can animate the simulation using the `export_movie()` method. We\n",
    "can adjust the xyz limits of the plot to better visualize the network.\n",
    "\n"
   ]
  },
  {
   "cell_type": "code",
   "execution_count": null,
   "metadata": {
    "collapsed": false,
    "jupyter": {
     "outputs_hidden": false
    }
   },
   "outputs": [],
   "source": [
    "# # If you want to save the animation to a file, then uncomment the code in this cell.\n",
    "# net_plot.xlim = (400, 1600)\n",
    "# net_plot.ylim = (400, 1600)\n",
    "# net_plot.zlim = (-500, 1600)\n",
    "# net_plot.azim = 225\n",
    "# net_plot.export_movie('animation_demo.gif', dpi=100, fps=30, interval=100)"
   ]
  }
 ],
 "metadata": {
  "kernelspec": {
   "display_name": "website-redesign-mpi",
   "language": "python",
   "name": "python3"
  },
  "language_info": {
   "codemirror_mode": {
    "name": "ipython",
    "version": 3
   },
   "file_extension": ".py",
   "mimetype": "text/x-python",
   "name": "python",
   "nbconvert_exporter": "python",
   "pygments_lexer": "ipython3",
   "version": "3.12.9"
  }
 },
 "nbformat": 4,
 "nbformat_minor": 4
}
