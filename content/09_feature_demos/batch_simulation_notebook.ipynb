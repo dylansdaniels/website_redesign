{
 "cells": [
  {
   "cell_type": "markdown",
   "metadata": {},
   "source": [
    "\n",
    "# 9.5: Batch Simulation\n",
    "\n",
    "This example shows how to do batch simulations in HNN-core, allowing users to\n",
    "efficiently run multiple simulations with different parameters\n",
    "for comprehensive analysis.\n"
   ]
  },
  {
   "cell_type": "code",
   "execution_count": null,
   "metadata": {
    "collapsed": false,
    "jupyter": {
     "outputs_hidden": false
    }
   },
   "outputs": [],
   "source": [
    "# Authors: Abdul Samad Siddiqui <abdulsamadsid1@gmail.com>\n",
    "#          Nick Tolley <nicholas_tolley@brown.edu>\n",
    "#          Ryan Thorpe <ryan_thorpe@brown.edu>\n",
    "#          Mainak Jas <mjas@mgh.harvard.edu>\n",
    "#\n",
    "# This project was supported by Google Summer of Code (GSoC) 2024."
   ]
  },
  {
   "cell_type": "markdown",
   "metadata": {},
   "source": [
    "Let us import ``hnn_core``.\n",
    "\n"
   ]
  },
  {
   "cell_type": "code",
   "execution_count": null,
   "metadata": {
    "collapsed": false,
    "jupyter": {
     "outputs_hidden": false
    }
   },
   "outputs": [],
   "source": [
    "import matplotlib.pyplot as plt\n",
    "import numpy as np\n",
    "from hnn_core.batch_simulate import BatchSimulate\n",
    "from hnn_core import jones_2009_model\n",
    "\n",
    "# The number of cores may need modifying depending on your current machine.\n",
    "n_jobs = 4"
   ]
  },
  {
   "cell_type": "markdown",
   "metadata": {},
   "source": [
    "The `add_evoked_drive` function simulates external input to the network,\n",
    "mimicking sensory stimulation or other external events.\n",
    "\n",
    "- `evprox` indicates a proximal drive, targeting dendrites near the cell\n",
    "  bodies.\n",
    "- `mu=40` and `sigma=5` define the timing (mean and spread) of the input.\n",
    "- `weights_ampa` and `synaptic_delays` control the strength and\n",
    "  timing of the input.\n",
    "\n",
    "This evoked drive causes the initial positive deflection in the dipole\n",
    "signal, triggering a cascade of activity through the network and\n",
    "resulting in the complex waveforms observed.\n",
    "\n"
   ]
  },
  {
   "cell_type": "code",
   "execution_count": null,
   "metadata": {
    "collapsed": false,
    "jupyter": {
     "outputs_hidden": false
    }
   },
   "outputs": [],
   "source": [
    "def set_params(param_values, net=None):\n",
    "    \"\"\"\n",
    "    Set parameters for the network drives.\n",
    "\n",
    "    Parameters\n",
    "    ----------\n",
    "    param_values : dict\n",
    "        Dictionary of parameter values.\n",
    "    net : instance of Network, optional\n",
    "        If None, a new network is created using the specified model type.\n",
    "    \"\"\"\n",
    "    weights_ampa = {'L2_basket': param_values['weight_basket'],\n",
    "                    'L2_pyramidal': param_values['weight_pyr'],\n",
    "                    'L5_basket': param_values['weight_basket'],\n",
    "                    'L5_pyramidal': param_values['weight_pyr']}\n",
    "\n",
    "    synaptic_delays = {'L2_basket': 0.1, 'L2_pyramidal': 0.1,\n",
    "                       'L5_basket': 1., 'L5_pyramidal': 1.}\n",
    "\n",
    "    # Add an evoked drive to the network.\n",
    "    net.add_evoked_drive('evprox',\n",
    "                         mu=40,\n",
    "                         sigma=5,\n",
    "                         numspikes=1,\n",
    "                         location='proximal',\n",
    "                         weights_ampa=weights_ampa,\n",
    "                         synaptic_delays=synaptic_delays)"
   ]
  },
  {
   "cell_type": "markdown",
   "metadata": {},
   "source": [
    "Next, we define a parameter grid for the batch simulation.\n",
    "\n"
   ]
  },
  {
   "cell_type": "code",
   "execution_count": null,
   "metadata": {
    "collapsed": false,
    "jupyter": {
     "outputs_hidden": false
    }
   },
   "outputs": [],
   "source": [
    "param_grid = {\n",
    "    'weight_basket': np.logspace(-4, -1, 20),\n",
    "    'weight_pyr': np.logspace(-4, -1, 20)\n",
    "}"
   ]
  },
  {
   "cell_type": "markdown",
   "metadata": {},
   "source": [
    "We then define a function to calculate summary statistics.\n",
    "\n"
   ]
  },
  {
   "cell_type": "code",
   "execution_count": null,
   "metadata": {
    "collapsed": false,
    "jupyter": {
     "outputs_hidden": false
    }
   },
   "outputs": [],
   "source": [
    "def summary_func(results):\n",
    "    \"\"\"\n",
    "    Calculate the min and max dipole peak for each simulation result.\n",
    "\n",
    "    Parameters\n",
    "    ----------\n",
    "    results : list\n",
    "        List of dictionaries containing simulation results.\n",
    "\n",
    "    Returns\n",
    "    -------\n",
    "    summary_stats : list\n",
    "        Summary statistics for each simulation result.\n",
    "    \"\"\"\n",
    "    summary_stats = []\n",
    "    for result in results:\n",
    "        dpl_smooth = result['dpl'][0].copy().smooth(window_len=30)\n",
    "        dpl_data = dpl_smooth.data['agg']\n",
    "        min_peak = np.min(dpl_data)\n",
    "        max_peak = np.max(dpl_data)\n",
    "        summary_stats.append({'min_peak': min_peak, 'max_peak': max_peak})\n",
    "    return summary_stats"
   ]
  },
  {
   "cell_type": "markdown",
   "metadata": {},
   "source": [
    "Run the batch simulation and collect the results.\n",
    "\n"
   ]
  },
  {
   "cell_type": "code",
   "execution_count": null,
   "metadata": {
    "collapsed": false,
    "jupyter": {
     "outputs_hidden": false
    }
   },
   "outputs": [],
   "source": [
    "# Initialize the network model and run the batch simulation.\n",
    "net = jones_2009_model(mesh_shape=(3, 3))\n",
    "batch_simulation = BatchSimulate(net=net,\n",
    "                                 set_params=set_params,\n",
    "                                 summary_func=summary_func)\n",
    "simulation_results = batch_simulation.run(param_grid,\n",
    "                                          n_jobs=n_jobs,\n",
    "                                          combinations=False,\n",
    "                                          backend='loky')\n",
    "\n",
    "print(\"Simulation results:\", simulation_results)"
   ]
  },
  {
   "cell_type": "markdown",
   "metadata": {},
   "source": [
    "This plot shows an overlay of all smoothed dipole waveforms from the\n",
    "batch simulation. Each line represents a different set of synaptic strength\n",
    "parameters (`weight_basket`), allowing us to visualize the range of responses\n",
    "across the parameter space.\n",
    "The colormap represents synaptic strengths, from weaker (purple)\n",
    "to stronger (yellow).\n",
    "\n",
    "As drive strength increases, dipole responses show progressively larger\n",
    "amplitudes and more distinct features, reflecting heightened network\n",
    "activity. Weak drives (purple lines) produce smaller amplitude signals with\n",
    "simpler waveforms, while stronger drives (yellow lines) generate\n",
    "larger responses with more pronounced oscillatory features, indicating\n",
    "more robust network activity.\n",
    "\n",
    "The y-axis represents dipole amplitude in `nAm` (nanoAmpere-meters), which is\n",
    "the product of current flow and distance in the neural tissue.\n",
    "\n",
    "Stronger synaptic connections (yellow lines) generally show larger\n",
    "amplitude responses and more pronounced features throughout the simulation.\n",
    "\n"
   ]
  },
  {
   "cell_type": "code",
   "execution_count": null,
   "metadata": {
    "collapsed": false,
    "jupyter": {
     "outputs_hidden": false
    }
   },
   "outputs": [],
   "source": [
    "dpl_waveforms, param_values = [], []\n",
    "for data_list in simulation_results['simulated_data']:\n",
    "    for data in data_list:\n",
    "        dpl_smooth = data['dpl'][0].copy().smooth(window_len=30)\n",
    "        dpl_waveforms.append(dpl_smooth.data['agg'])\n",
    "        param_values.append(data['param_values']['weight_basket'])\n",
    "\n",
    "plt.figure(figsize=(10, 6))\n",
    "cmap = plt.get_cmap('viridis')\n",
    "log_param_values = np.log10(param_values)\n",
    "norm = plt.Normalize(log_param_values.min(), log_param_values.max())\n",
    "\n",
    "for waveform, log_param in zip(dpl_waveforms, log_param_values):\n",
    "    color = cmap(norm(log_param))\n",
    "    plt.plot(waveform, color=color, alpha=0.7, linewidth=2)\n",
    "plt.title('Overlay of Dipole Waveforms')\n",
    "plt.xlabel('Time (ms)')\n",
    "plt.ylabel('Dipole Amplitude (nAm)')\n",
    "plt.grid(True)\n",
    "plt.tight_layout()\n",
    "plt.show()"
   ]
  },
  {
   "cell_type": "markdown",
   "metadata": {},
   "source": [
    "This plot displays the minimum and maximum dipole peaks across\n",
    "different synaptic strengths. This allows us to see how the range of\n",
    "dipole activity changes as we vary the synaptic strength parameter.\n",
    "\n"
   ]
  },
  {
   "cell_type": "code",
   "execution_count": null,
   "metadata": {
    "collapsed": false,
    "jupyter": {
     "outputs_hidden": false
    }
   },
   "outputs": [],
   "source": [
    "min_peaks, max_peaks, param_values = [], [], []\n",
    "for summary_list, data_list in zip(simulation_results['summary_statistics'],\n",
    "                                   simulation_results['simulated_data']):\n",
    "    for summary, data in zip(summary_list, data_list):\n",
    "        min_peaks.append(summary['min_peak'])\n",
    "        max_peaks.append(summary['max_peak'])\n",
    "        param_values.append(data['param_values']['weight_basket'])\n",
    "\n",
    "# Plotting\n",
    "plt.figure(figsize=(10, 6))\n",
    "plt.plot(param_values, min_peaks, label='Min Dipole Peak')\n",
    "plt.plot(param_values, max_peaks, label='Max Dipole Peak')\n",
    "plt.xlabel('Synaptic Strength (nS)')\n",
    "plt.ylabel('Dipole Peak Magnitude')\n",
    "plt.title('Min and Max Dipole Peaks across Simulations')\n",
    "plt.legend()\n",
    "plt.grid(True)\n",
    "plt.xscale('log')\n",
    "plt.tight_layout()\n",
    "plt.show()"
   ]
  }
 ],
 "metadata": {
  "kernelspec": {
   "display_name": "website-redesign-mpi",
   "language": "python",
   "name": "python3"
  },
  "language_info": {
   "codemirror_mode": {
    "name": "ipython",
    "version": 3
   },
   "file_extension": ".py",
   "mimetype": "text/x-python",
   "name": "python",
   "nbconvert_exporter": "python",
   "pygments_lexer": "ipython3",
   "version": "3.12.9"
  }
 },
 "nbformat": 4,
 "nbformat_minor": 4
}
