{
 "cells": [
  {
   "cell_type": "markdown",
   "metadata": {},
   "source": [
    "\n",
    "# 9.7: Use MPI backend for Parallelization\n",
    "\n",
    "This example demonstrates how to use the MPI backend for\n",
    "simulating dipoles using HNN-core.\n",
    "\n",
    "The MPI backend allows running the simulation in parallel across neurons in the\n",
    "network even with a single trial. For this, you will\n",
    "need the \n",
    "[MPI related software](https://github.com/jonescompneurolab/hnn-core?tab=readme-ov-file#installation)\n",
    "installed. Note that if you\n",
    "want to simulate in parallel across trials, the Joblib backend allows this\n",
    "without the need to install and configure MPI.\n"
   ]
  },
  {
   "cell_type": "code",
   "execution_count": null,
   "metadata": {
    "collapsed": false,
    "jupyter": {
     "outputs_hidden": false
    }
   },
   "outputs": [],
   "source": [
    "# Authors: Mainak Jas <mjas@mgh.harvard.edu>\n",
    "#          Blake Caldwell <blake_caldwell@brown.edu>"
   ]
  },
  {
   "cell_type": "markdown",
   "metadata": {},
   "source": [
    "Let us import `hnn_core`"
   ]
  },
  {
   "cell_type": "code",
   "execution_count": null,
   "metadata": {
    "collapsed": false,
    "jupyter": {
     "outputs_hidden": false
    }
   },
   "outputs": [],
   "source": [
    "import os.path as op\n",
    "\n",
    "import matplotlib.pyplot as plt\n",
    "\n",
    "import hnn_core\n",
    "from hnn_core import simulate_dipole, jones_2009_model"
   ]
  },
  {
   "cell_type": "markdown",
   "metadata": {},
   "source": [
    "Following our\n",
    "[Alpha example](https://dylansdaniels.github.io/website_redesign/content/06_alpha_beta/api.html),\n",
    "we add a\n",
    "~10 Hz \"bursty\" drive starting at 50 ms and continuing to the end of the\n",
    "simulation. Each burst consists of a pair (2) of spikes, spaced 10 ms apart.\n",
    "The occurrence of each burst is jittered by a random, normally distributed\n",
    "amount (20 ms standard deviation). We repeat the burst train 10 times, each\n",
    "time with unique randomization."
   ]
  },
  {
   "cell_type": "code",
   "execution_count": null,
   "metadata": {
    "collapsed": false,
    "jupyter": {
     "outputs_hidden": false
    }
   },
   "outputs": [],
   "source": [
    "net = jones_2009_model()\n",
    "\n",
    "weights_ampa = {'L2_pyramidal': 5.4e-5, 'L5_pyramidal': 5.4e-5}\n",
    "net.add_bursty_drive(\n",
    "    'bursty', tstart=50., burst_rate=10, burst_std=20., numspikes=2,\n",
    "    spike_isi=10, n_drive_cells=10, location='distal',\n",
    "    weights_ampa=weights_ampa, event_seed=278)"
   ]
  },
  {
   "cell_type": "markdown",
   "metadata": {},
   "source": [
    "Finally, to simulate we use the\n",
    "[MPIBackend](https://jonescompneurolab.github.io/hnn-core/stable/generated/hnn_core.parallel_backends.MPIBackend.html#hnn_core.parallel_backends.MPIBackend)\n",
    "class. This will\n",
    "start the simulation across the number of processors (cores) specified by\n",
    "`n_procs` using MPI. The `mpiexec` launcher is used from\n",
    "`openmpi`, which must be installed on the system."
   ]
  },
  {
   "cell_type": "code",
   "execution_count": null,
   "metadata": {
    "collapsed": false,
    "jupyter": {
     "outputs_hidden": false
    }
   },
   "outputs": [],
   "source": [
    "from hnn_core import MPIBackend\n",
    "\n",
    "with MPIBackend(n_procs=2, mpi_cmd='mpiexec'):\n",
    "    dpls = simulate_dipole(net, tstop=310., n_trials=1)\n",
    "\n",
    "trial_idx = 0\n",
    "dpls[trial_idx].plot(show=False)\n",
    "plt.show()"
   ]
  }
 ],
 "metadata": {
  "kernelspec": {
   "display_name": "website-redesign-mpi",
   "language": "python",
   "name": "python3"
  },
  "language_info": {
   "codemirror_mode": {
    "name": "ipython",
    "version": 3
   },
   "file_extension": ".py",
   "mimetype": "text/x-python",
   "name": "python",
   "nbconvert_exporter": "python",
   "pygments_lexer": "ipython3",
   "version": "3.12.9"
  }
 },
 "nbformat": 4,
 "nbformat_minor": 4
}
