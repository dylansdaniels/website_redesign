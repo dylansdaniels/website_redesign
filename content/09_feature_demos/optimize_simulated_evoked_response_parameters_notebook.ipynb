{
  "cells": [
    {
      "cell_type": "markdown",
      "metadata": {},
      "source": [
        "# 7.8: Optimize simulated evoked response parameters\n",
        "\n",
        "This example demonstrates how to optimize the parameters\n",
        "of the model simulation to match an experimental dipole waveform."
      ]
    },
    {
      "cell_type": "code",
      "execution_count": null,
      "metadata": {
        "collapsed": false
      },
      "outputs": [],
      "source": [
        "# Authors: Carolina Fernandez <cxf418@miami.edu>\n",
        "#          Nick Tolley <nicholas_tolley@brown.edu>\n",
        "#          Ryan Thorpe <ryan_thorpe@brown.edu>\n",
        "#          Mainak Jas <mjas@mgh.harvard.edu>\n",
        "\n",
        "import os.path as op\n",
        "\n",
        "import matplotlib.pyplot as plt"
      ]
    },
    {
      "cell_type": "markdown",
      "metadata": {},
      "source": [
        "Let us import `hnn_core`"
      ]
    },
    {
      "cell_type": "code",
      "execution_count": null,
      "metadata": {
        "collapsed": false
      },
      "outputs": [],
      "source": [
        "import hnn_core\n",
        "from hnn_core import (MPIBackend, jones_2009_model, simulate_dipole,\n",
        "                      read_dipole)\n",
        "\n",
        "hnn_core_root = op.join(op.dirname(hnn_core.__file__))\n",
        "\n",
        "# The number of cores may need modifying depending on your current machine.\n",
        "n_procs = 10"
      ]
    },
    {
      "cell_type": "markdown",
      "metadata": {},
      "source": [
        "First, we will load experimental data into a \n",
        "[Dipole object](https://jonescompneurolab.github.io/hnn-core/stable/generated/hnn_core.dipole.Dipole.html#hnn_core.dipole.Dipole)\n",
        "using\n",
        "[read_dipole](https://jonescompneurolab.github.io/hnn-core/stable/generated/hnn_core.read_dipole.html#hnn_core.read_dipole).\n",
        "This is a different experiment than the one to which the base parameters were\n",
        "tuned. So, the initial RMSE will be large, giving the optimization procedure\n",
        "a lot to work with."
      ]
    },
    {
      "cell_type": "code",
      "execution_count": null,
      "metadata": {
        "collapsed": false
      },
      "outputs": [],
      "source": [
        "from urllib.request import urlretrieve\n",
        "\n",
        "data_url = ('https://raw.githubusercontent.com/jonescompneurolab/hnn/master/'\n",
        "            'data/MEG_detection_data/S1_SupraT.txt')\n",
        "urlretrieve(data_url, 'S1_SupraT.txt')\n",
        "exp_dpl = read_dipole('S1_SupraT.txt')"
      ]
    },
    {
      "cell_type": "markdown",
      "metadata": {},
      "source": [
        "Let’s then simulate the dipole with some initial parameters.\n",
        "\n"
      ]
    },
    {
      "cell_type": "code",
      "execution_count": null,
      "metadata": {
        "collapsed": false
      },
      "outputs": [],
      "source": [
        "tstop = exp_dpl.times[-1]\n",
        "scale_factor = 3000\n",
        "smooth_window_len = 30\n",
        "\n",
        "net_init = jones_2009_model()\n",
        "\n",
        "# Proximal 1\n",
        "weights_ampa_p1 = {'L2_basket': 0.2913, 'L2_pyramidal': 0.9337,\n",
        "                   'L5_basket': 0.1951, 'L5_pyramidal': 0.3602}\n",
        "weights_nmda_p1 = {'L2_basket': 0.9240, 'L2_pyramidal': 0.0845,\n",
        "                   'L5_basket': 0.5849, 'L5_pyramidal': 0.65105}\n",
        "synaptic_delays_p = {'L2_basket': 0.1, 'L2_pyramidal': 0.1,\n",
        "                     'L5_basket': 1., 'L5_pyramidal': 1.}\n",
        "net_init.add_evoked_drive('evprox1',\n",
        "                          mu=5.6813,\n",
        "                          sigma=20.3969,\n",
        "                          numspikes=1,\n",
        "                          location='proximal',\n",
        "                          weights_ampa=weights_ampa_p1,\n",
        "                          weights_nmda=weights_nmda_p1,\n",
        "                          synaptic_delays=synaptic_delays_p)\n",
        "\n",
        "# Distal\n",
        "weights_ampa_d1 = {'L2_basket': 0.8037, 'L2_pyramidal': 0.5738,\n",
        "                   'L5_pyramidal': 0.3626}\n",
        "weights_nmda_d1 = {'L2_basket': 0.2492, 'L2_pyramidal': 0.6183,\n",
        "                   'L5_pyramidal': 0.1121}\n",
        "synaptic_delays_d1 = {'L2_basket': 0.1, 'L2_pyramidal': 0.1,\n",
        "                      'L5_pyramidal': 0.1}\n",
        "net_init.add_evoked_drive('evdist1',\n",
        "                          mu=58.6539,\n",
        "                          sigma=5.5810,\n",
        "                          numspikes=1,\n",
        "                          location='distal',\n",
        "                          weights_ampa=weights_ampa_d1,\n",
        "                          weights_nmda=weights_nmda_d1,\n",
        "                          synaptic_delays=synaptic_delays_d1)\n",
        "\n",
        "# Proximal 2\n",
        "weights_ampa_p2 = {'L2_basket': 0.01, 'L2_pyramidal': 0.01, 'L5_basket': 0.01,\n",
        "                   'L5_pyramidal': 0.01}\n",
        "weights_nmda_p2 = {'L2_basket': 0.01, 'L2_pyramidal': 0.01, 'L5_basket': 0.01,\n",
        "                   'L5_pyramidal': 0.01}\n",
        "net_init.add_evoked_drive('evprox2',\n",
        "                          mu=80,\n",
        "                          sigma=1,\n",
        "                          numspikes=1,\n",
        "                          location='proximal',\n",
        "                          weights_ampa=weights_ampa_p2,\n",
        "                          weights_nmda=weights_nmda_p2,\n",
        "                          synaptic_delays=synaptic_delays_p)\n",
        "\n",
        "with MPIBackend(n_procs=n_procs, mpi_cmd='mpiexec'):\n",
        "    init_dpl = simulate_dipole(net_init, tstop=tstop, n_trials=1)[0]\n",
        "init_dpl.scale(scale_factor)\n",
        "init_dpl.smooth(smooth_window_len)"
      ]
    },
    {
      "cell_type": "markdown",
      "metadata": {},
      "source": [
        "Now we start the optimization!\n",
        "\n",
        "First, we define a function that will tell the optimization routine how to\n",
        "modify the network drive parameters. The function will take in the Network\n",
        "object with no attached drives, and a dictionary of the parameters we wish to\n",
        "optimize.\n",
        "\n"
      ]
    },
    {
      "cell_type": "code",
      "execution_count": null,
      "metadata": {
        "collapsed": false
      },
      "outputs": [],
      "source": [
        "def set_params(net, params):\n",
        "\n",
        "    # Proximal 1\n",
        "    net.add_evoked_drive('evprox1',\n",
        "                         mu=5.6813,\n",
        "                         sigma=20.3969,\n",
        "                         numspikes=1,\n",
        "                         location='proximal',\n",
        "                         weights_ampa=weights_ampa_p1,\n",
        "                         weights_nmda=weights_nmda_p1,\n",
        "                         synaptic_delays=synaptic_delays_p)\n",
        "\n",
        "    # Distal\n",
        "    net.add_evoked_drive('evdist1',\n",
        "                         mu=58.6539,\n",
        "                         sigma=5.5810,\n",
        "                         numspikes=1,\n",
        "                         location='distal',\n",
        "                         weights_ampa=weights_ampa_d1,\n",
        "                         weights_nmda=weights_nmda_d1,\n",
        "                         synaptic_delays=synaptic_delays_d1)\n",
        "\n",
        "    # Proximal 2\n",
        "    weights_ampa_p2 = {'L2_basket':\n",
        "                       params['evprox2_ampa_L2_basket'],\n",
        "                       'L2_pyramidal':\n",
        "                       params['evprox2_ampa_L2_pyramidal'],\n",
        "                       'L5_basket':\n",
        "                       params['evprox2_ampa_L5_basket'],\n",
        "                       'L5_pyramidal':\n",
        "                       params['evprox2_ampa_L5_pyramidal']}\n",
        "    weights_nmda_p2 = {'L2_basket':\n",
        "                       params['evprox2_nmda_L2_basket'],\n",
        "                       'L2_pyramidal':\n",
        "                       params['evprox2_nmda_L2_pyramidal'],\n",
        "                       'L5_basket':\n",
        "                       params['evprox2_nmda_L5_basket'],\n",
        "                       'L5_pyramidal':\n",
        "                       params['evprox2_nmda_L5_pyramidal']}\n",
        "    net.add_evoked_drive('evprox2',\n",
        "                         mu=params['evprox2_mu'],\n",
        "                         sigma=params['evprox2_sigma'],\n",
        "                         numspikes=1,\n",
        "                         location='proximal',\n",
        "                         weights_ampa=weights_ampa_p2,\n",
        "                         weights_nmda=weights_nmda_p2,\n",
        "                         synaptic_delays=synaptic_delays_p)"
      ]
    },
    {
      "cell_type": "markdown",
      "metadata": {},
      "source": [
        "Then, we define the constraints.\n",
        "\n",
        "The constraints must be a dictionary of tuples where the first value in each\n",
        "tuple is the lower bound and the second value is the upper bound for the\n",
        "corresponding parameter.\n",
        "\n",
        "The following synaptic weight parameter ranges (units of micro-siemens)\n",
        "were chosen so as to keep the model in physiologically realistic regimes.\n",
        "\n"
      ]
    },
    {
      "cell_type": "code",
      "execution_count": null,
      "metadata": {
        "collapsed": false
      },
      "outputs": [],
      "source": [
        "constraints = dict({'evprox2_ampa_L2_basket': (0.01, 1.),\n",
        "                    'evprox2_ampa_L2_pyramidal': (0.01, 1.),\n",
        "                    'evprox2_ampa_L5_basket': (0.01, 1.),\n",
        "                    'evprox2_ampa_L5_pyramidal': (0.01, 1.),\n",
        "                    'evprox2_nmda_L2_basket': (0.01, 1.),\n",
        "                    'evprox2_nmda_L2_pyramidal': (0.01, 1.),\n",
        "                    'evprox2_nmda_L5_basket': (0.01, 1.),\n",
        "                    'evprox2_nmda_L5_pyramidal': (0.01, 1.),\n",
        "                    'evprox2_mu': (100., 120.),\n",
        "                    'evprox2_sigma': (2., 30.)})"
      ]
    },
    {
      "cell_type": "markdown",
      "metadata": {},
      "source": [
        "Now we define and fit the optimizer.\n",
        "\n"
      ]
    },
    {
      "cell_type": "code",
      "execution_count": null,
      "metadata": {
        "collapsed": false
      },
      "outputs": [],
      "source": [
        "from hnn_core.optimization import Optimizer\n",
        "\n",
        "net = jones_2009_model()\n",
        "optim = Optimizer(net, tstop=tstop, constraints=constraints,\n",
        "                  set_params=set_params)\n",
        "with MPIBackend(n_procs=n_procs, mpi_cmd='mpiexec'):\n",
        "    optim.fit(target=exp_dpl, scale_factor=scale_factor,\n",
        "              smooth_window_len=smooth_window_len)"
      ]
    },
    {
      "cell_type": "markdown",
      "metadata": {},
      "source": [
        "Finally, we can plot the experimental data alongside the post-optimization\n",
        "simulation dipole as well as the convergence plot.\n",
        "\n"
      ]
    },
    {
      "cell_type": "code",
      "execution_count": null,
      "metadata": {
        "collapsed": false
      },
      "outputs": [],
      "source": [
        "with MPIBackend(n_procs=n_procs, mpi_cmd='mpiexec'):\n",
        "    opt_dpl = simulate_dipole(optim.net_, tstop=tstop, n_trials=1)[0]\n",
        "opt_dpl.scale(scale_factor)\n",
        "opt_dpl.smooth(smooth_window_len)\n",
        "\n",
        "fig, axes = plt.subplots(2, 1, sharex=True, figsize=(6, 6))\n",
        "\n",
        "# plot original\n",
        "exp_dpl.plot(ax=axes[0], layer='agg', show=False, color='tab:blue')\n",
        "init_dpl.plot(ax=axes[0], layer='agg', show=False, color='tab:orange')\n",
        "opt_dpl.plot(ax=axes[0], layer='agg', show=False, color='tab:green')\n",
        "axes[0].legend(['experimental', 'initial', 'optimized'])\n",
        "optim.net_.cell_response.plot_spikes_hist(ax=axes[1], show=False)\n",
        "plt.show()"
      ]
    },
    {
      "cell_type": "code",
      "execution_count": null,
      "metadata": {},
      "outputs": [],
      "source": [
        "fig1 = optim.plot_convergence(show=False)\n",
        "plt.show()"
      ]
    }
  ],
  "metadata": {
    "kernelspec": {
      "display_name": "hc12",
      "language": "python",
      "name": "python3"
    },
    "language_info": {
      "codemirror_mode": {
        "name": "ipython",
        "version": 3
      },
      "file_extension": ".py",
      "mimetype": "text/x-python",
      "name": "python",
      "nbconvert_exporter": "python",
      "pygments_lexer": "ipython3",
      "version": "3.12.8"
    }
  },
  "nbformat": 4,
  "nbformat_minor": 0
}
