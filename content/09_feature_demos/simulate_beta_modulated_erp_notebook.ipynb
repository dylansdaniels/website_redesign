{
 "cells": [
  {
   "cell_type": "markdown",
   "metadata": {},
   "source": [
    "\n",
    "# 7.6: Simulate Beta-modulated ERP\n",
    "\n",
    "This example demonstrates how event related potentials (ERP) are modulated\n",
    "by prestimulus beta events. Specifically, this example reproduces Figure 5\n",
    "from (Law et al. 2021). To be consistent with the publication, the default\n",
    "network connectivity is altered. These modifications demonstrate a potential\n",
    "mechanism by which transient beta activity in the neocortex can suppress\n",
    "the perceptibility of sensory input. This suppression depends on the timing\n",
    "of the beta event, and the incoming sensory information."
   ]
  },
  {
   "cell_type": "code",
   "execution_count": null,
   "metadata": {
    "collapsed": false,
    "jupyter": {
     "outputs_hidden": false
    }
   },
   "outputs": [],
   "source": [
    "# Authors: Nick Tolley <nicholas_tolley@brown.edu>\n",
    "\n",
    "from hnn_core import simulate_dipole, law_2021_model, jones_2009_model\n",
    "from hnn_core.viz import plot_dipole"
   ]
  },
  {
   "cell_type": "markdown",
   "metadata": {},
   "source": [
    "We begin by instantiating the network model from (Law et al. 2021):"
   ]
  },
  {
   "cell_type": "code",
   "execution_count": null,
   "metadata": {
    "collapsed": false,
    "jupyter": {
     "outputs_hidden": false
    }
   },
   "outputs": [],
   "source": [
    "net = law_2021_model()"
   ]
  },
  {
   "cell_type": "markdown",
   "metadata": {},
   "source": [
    "The Law 2021 model is based on the network model described in\n",
    "(Jones et al. 2009) with several important modifications. One of the most\n",
    "significant changes is substantially increasing the rise and fall time\n",
    "constants of GABAb-conductances on L2 and L5 pyramidal. Another important\n",
    "change is the removal of calcium channels from basal dendrites and soma of\n",
    "L5 pyramidal cells specifically.\n",
    "We can inspect these properties with the `net.cell_types` attribute which\n",
    "contains information on the biophysics and geometry of each cell."
   ]
  },
  {
   "cell_type": "code",
   "execution_count": null,
   "metadata": {
    "collapsed": false,
    "jupyter": {
     "outputs_hidden": false
    }
   },
   "outputs": [],
   "source": [
    "net_jones = jones_2009_model()\n",
    "\n",
    "jones_rise = net_jones.cell_types['L5_pyramidal'].synapses['gabab']['tau1']\n",
    "law_rise = net.cell_types['L5_pyramidal'].synapses['gabab']['tau1']\n",
    "print(f'GABAb Rise (ms): {jones_rise} -> {law_rise}')\n",
    "\n",
    "jones_fall = net_jones.cell_types['L5_pyramidal'].synapses['gabab']['tau2']\n",
    "law_fall = net.cell_types['L5_pyramidal'].synapses['gabab']['tau2']\n",
    "print(f'GABAb Fall (ms): {jones_fall} -> {law_fall}\\n')\n",
    "\n",
    "print('Apical Dendrite Channels:')\n",
    "print(net.cell_types['L5_pyramidal'].sections['apical_1'].mechs.keys())\n",
    "print(\"\\nBasal Dendrite Channels ('ca' missing):\")\n",
    "print(net.cell_types['L5_pyramidal'].sections['basal_1'].mechs.keys())"
   ]
  },
  {
   "cell_type": "markdown",
   "metadata": {},
   "source": [
    "A major change to the Jones 2009 model is the addition of a\n",
    "Martinotti-like recurrent tuft connection (Silberberg and Markram 2007). This new connection\n",
    "originates from L5 basket cells, and provides GABAa inhibition on\n",
    "the distal dendrites of L5 pyramidal cells."
   ]
  },
  {
   "cell_type": "code",
   "execution_count": null,
   "metadata": {
    "collapsed": false,
    "jupyter": {
     "outputs_hidden": false
    }
   },
   "outputs": [],
   "source": [
    "print('Recurrent Tuft Connection')\n",
    "print(net.connectivity[16])"
   ]
  },
  {
   "cell_type": "markdown",
   "metadata": {},
   "source": [
    "The remaining changes to the connectivity was the removal of an\n",
    "L2_basket -> L5_pyramidal GABAa connection, and replacing it with GABAb.\n",
    "\n"
   ]
  },
  {
   "cell_type": "code",
   "execution_count": null,
   "metadata": {
    "collapsed": false,
    "jupyter": {
     "outputs_hidden": false
    }
   },
   "outputs": [],
   "source": [
    "print('New GABAb connection')\n",
    "print(net.connectivity[15])\n",
    "\n",
    "print('\\nConnection Removed from Law Model')\n",
    "print(net_jones.connectivity[10])"
   ]
  },
  {
   "cell_type": "markdown",
   "metadata": {},
   "source": [
    "To demonstrate sensory depression, we will add the drives necessary to\n",
    "generate and ERP similar to our\n",
    "[ERP example](https://dylansdaniels.github.io/website_redesign/content/05_erps/hnn_core.html),\n",
    "but modified to reflect the parameters used in (Law et al. 2021).\n",
    "Specifically, we are considering the case where a tactile stimulus is\n",
    "delivered at 150 ms. 25 ms later, the first input to sensory cortex arrives\n",
    "as a proximal drive to the cortical column. Proximal drive corresponds to\n",
    "projections from the direct thalamic nuclei. This is followed by one\n",
    "`distal` drive representing projections from indirect thalamic nuclei,\n",
    "and a final late proximal drive. It is important to note that the parameter\n",
    "values for each are different from previous examples of the evoked response.\n",
    "This reflects the altered network dynamics due to the changes described\n",
    "above."
   ]
  },
  {
   "cell_type": "code",
   "execution_count": null,
   "metadata": {
    "collapsed": false,
    "jupyter": {
     "outputs_hidden": false
    }
   },
   "outputs": [],
   "source": [
    "def add_erp_drives(net, stimulus_start):\n",
    "    # Distal evoked drive\n",
    "    weights_ampa_d1 = {'L2_basket': 0.0005, 'L2_pyramidal': 0.004,\n",
    "                       'L5_pyramidal': 0.0005}\n",
    "    weights_nmda_d1 = {'L2_basket': 0.0005, 'L2_pyramidal': 0.004,\n",
    "                       'L5_pyramidal': 0.0005}\n",
    "    syn_delays_d1 = {'L2_basket': 0.1, 'L2_pyramidal': 0.1,\n",
    "                     'L5_pyramidal': 0.1}\n",
    "    net.add_evoked_drive(\n",
    "        'evdist1', mu=70.0 + stimulus_start, sigma=0.0, numspikes=1,\n",
    "        weights_ampa=weights_ampa_d1, weights_nmda=weights_nmda_d1,\n",
    "        location='distal', synaptic_delays=syn_delays_d1, event_seed=274)\n",
    "\n",
    "    # Two proximal drives\n",
    "    weights_ampa_p1 = {'L2_basket': 0.002, 'L2_pyramidal': 0.0011,\n",
    "                       'L5_basket': 0.001, 'L5_pyramidal': 0.001}\n",
    "    syn_delays_prox = {'L2_basket': 0.1, 'L2_pyramidal': 0.1,\n",
    "                       'L5_basket': 1., 'L5_pyramidal': 1.}\n",
    "\n",
    "    # all NMDA weights are zero; pass None explicitly\n",
    "    net.add_evoked_drive(\n",
    "        'evprox1', mu=25.0 + stimulus_start, sigma=0.0, numspikes=1,\n",
    "        weights_ampa=weights_ampa_p1, weights_nmda=None,\n",
    "        location='proximal', synaptic_delays=syn_delays_prox, event_seed=544)\n",
    "\n",
    "    # Second proximal evoked drive. NB: only AMPA weights differ from first\n",
    "    weights_ampa_p2 = {'L2_basket': 0.005, 'L2_pyramidal': 0.005,\n",
    "                       'L5_basket': 0.01, 'L5_pyramidal': 0.01}\n",
    "    # all NMDA weights are zero; omit weights_nmda (defaults to None)\n",
    "    net.add_evoked_drive(\n",
    "        'evprox2', mu=135.0 + stimulus_start, sigma=0.0, numspikes=1,\n",
    "        weights_ampa=weights_ampa_p2, location='proximal',\n",
    "        synaptic_delays=syn_delays_prox, event_seed=814)\n",
    "\n",
    "    return net"
   ]
  },
  {
   "cell_type": "markdown",
   "metadata": {},
   "source": [
    "A beta event is created by inducing simultaneous proximal and distal\n",
    "drives. The input is just strong enough to evoke spiking in the\n",
    "L2 basket cells. This spiking causes GABAb mediated inhibition\n",
    "of the network, and ultimately suppressed sensory detection.\n",
    "\n"
   ]
  },
  {
   "cell_type": "code",
   "execution_count": null,
   "metadata": {
    "collapsed": false,
    "jupyter": {
     "outputs_hidden": false
    }
   },
   "outputs": [],
   "source": [
    "def add_beta_drives(net, beta_start):\n",
    "    # Distal Drive\n",
    "    weights_ampa_d1 = {'L2_basket': 0.00032, 'L2_pyramidal': 0.00008,\n",
    "                       'L5_pyramidal': 0.00004}\n",
    "    syn_delays_d1 = {'L2_basket': 0.5, 'L2_pyramidal': 0.5,\n",
    "                     'L5_pyramidal': 0.5}\n",
    "    net.add_bursty_drive(\n",
    "        'beta_dist', tstart=beta_start, tstart_std=0., tstop=beta_start + 50.,\n",
    "        burst_rate=1., burst_std=10., numspikes=2, spike_isi=10,\n",
    "        n_drive_cells=10, location='distal', weights_ampa=weights_ampa_d1,\n",
    "        synaptic_delays=syn_delays_d1, event_seed=290)\n",
    "\n",
    "    # Proximal Drive\n",
    "    weights_ampa_p1 = {'L2_basket': 0.00004, 'L2_pyramidal': 0.00002,\n",
    "                       'L5_basket': 0.00002, 'L5_pyramidal': 0.00002}\n",
    "    syn_delays_p1 = {'L2_basket': 0.1, 'L2_pyramidal': 0.1,\n",
    "                     'L5_basket': 1.0, 'L5_pyramidal': 1.0}\n",
    "\n",
    "    net.add_bursty_drive(\n",
    "        'beta_prox', tstart=beta_start, tstart_std=0., tstop=beta_start + 50.,\n",
    "        burst_rate=1., burst_std=20., numspikes=2, spike_isi=10,\n",
    "        n_drive_cells=10, location='proximal', weights_ampa=weights_ampa_p1,\n",
    "        synaptic_delays=syn_delays_p1, event_seed=300)\n",
    "    return net"
   ]
  },
  {
   "cell_type": "markdown",
   "metadata": {},
   "source": [
    "We can now use our functions to create three distinct simulations:\n",
    "\n",
    "1. beta event only, \n",
    "2. ERP only, and \n",
    "3. beta event + ERP."
   ]
  },
  {
   "cell_type": "code",
   "execution_count": null,
   "metadata": {
    "collapsed": false,
    "jupyter": {
     "outputs_hidden": false
    }
   },
   "outputs": [],
   "source": [
    "beta_start, stimulus_start = 50.0, 125.0\n",
    "net_beta = net.copy()\n",
    "net_beta = add_beta_drives(net_beta, beta_start)\n",
    "\n",
    "net_erp = net.copy()\n",
    "net_erp = add_erp_drives(net_erp, stimulus_start)\n",
    "\n",
    "net_beta_erp = net_beta.copy()\n",
    "net_beta_erp = add_erp_drives(net_beta_erp, stimulus_start)"
   ]
  },
  {
   "cell_type": "markdown",
   "metadata": {},
   "source": [
    "And finally we simulate. Note that the default simulation time has been\n",
    "increased to 400 ms to observe the long time course over which beta events\n",
    "can influence sensory input to the cortical column.\n",
    "\n"
   ]
  },
  {
   "cell_type": "code",
   "execution_count": null,
   "metadata": {
    "collapsed": false,
    "jupyter": {
     "outputs_hidden": false
    }
   },
   "outputs": [],
   "source": [
    "dpls_beta = simulate_dipole(net_beta, tstop=400)"
   ]
  },
  {
   "cell_type": "code",
   "execution_count": null,
   "metadata": {},
   "outputs": [],
   "source": [
    "dpls_erp = simulate_dipole(net_erp, tstop=400)"
   ]
  },
  {
   "cell_type": "code",
   "execution_count": null,
   "metadata": {},
   "outputs": [],
   "source": [
    "dpls_beta_erp = simulate_dipole(net_beta_erp, tstop=400)"
   ]
  },
  {
   "cell_type": "markdown",
   "metadata": {},
   "source": [
    "By inspecting the activity during the beta event, we can see that spiking\n",
    "occurs exclusively at 50 ms, the peak of the gaussian distributed proximal\n",
    "and distal inputs. This spiking activity leads to sustained GABAb mediated\n",
    "inhibition of the L2 and L5 pyrmaidal cells. One effect of this inhibition\n",
    "is an asymmetric beta event with a long positive tail.\n",
    "\n"
   ]
  },
  {
   "cell_type": "code",
   "execution_count": null,
   "metadata": {
    "collapsed": false,
    "jupyter": {
     "outputs_hidden": false
    }
   },
   "outputs": [],
   "source": [
    "import matplotlib.pyplot as plt\n",
    "import numpy as np\n",
    "fig, axes = plt.subplots(4, 1, sharex=True, figsize=(7, 7),\n",
    "                         constrained_layout=True)\n",
    "net_beta.cell_response.plot_spikes_hist(ax=axes[0], show=False)\n",
    "axes[0].set_title('Beta Event Generation')\n",
    "plot_dipole(dpls_beta, ax=axes[1], layer='agg', tmin=1.0, color='b', show=False)\n",
    "net_beta.cell_response.plot_spikes_raster(ax=axes[2], show=False)\n",
    "axes[2].set_title('Spike Raster')\n",
    "\n",
    "# Create a fixed-step tiling of frequencies from 1 to 40 Hz in steps of 1 Hz\n",
    "freqs = np.arange(10., 60., 1.)\n",
    "dpls_beta[0].plot_tfr_morlet(freqs, n_cycles=7, ax=axes[3], show=False)\n",
    "plt.show()"
   ]
  },
  {
   "cell_type": "markdown",
   "metadata": {},
   "source": [
    "Next we will inspect what happens when a sensory stimulus is delivered 75 ms\n",
    "after a beta event. Note that the delay time for a tactile stimulus at the\n",
    "hand to arrive at the cortex is roughly 25 ms, which means the first proximal\n",
    "input to the cortical column occurs ~100 ms after the beta event.\n",
    "\n"
   ]
  },
  {
   "cell_type": "code",
   "execution_count": null,
   "metadata": {
    "collapsed": false,
    "jupyter": {
     "outputs_hidden": false
    }
   },
   "outputs": [],
   "source": [
    "dpls_beta_erp[0].smooth(45)\n",
    "fig, axes = plt.subplots(3, 1, sharex=True, figsize=(7, 7),\n",
    "                         constrained_layout=True)\n",
    "plot_dipole(dpls_beta_erp, ax=axes[0], layer='agg', tmin=1.0, color='r',\n",
    "            show=False)\n",
    "axes[0].set_title('Beta Event + ERP')\n",
    "net_beta_erp.cell_response.plot_spikes_hist(ax=axes[1], show=False)\n",
    "axes[1].set_title('Input Drives Histogram')\n",
    "net_beta_erp.cell_response.plot_spikes_raster(ax=axes[2], show=False)\n",
    "axes[2].set_title('Spike Raster')\n",
    "plt.show()"
   ]
  },
  {
   "cell_type": "markdown",
   "metadata": {},
   "source": [
    "To help understand the effect of beta mediated inhibition on the response to\n",
    "incoming sensory stimuli, we can compare the ERP and spiking activity due to\n",
    "sensory input with and without a beta event.\n",
    "The sustained inhibition of the network ultimately depresses\n",
    "the sensory response which is associated with a reduced ERP amplitude\n",
    "\n"
   ]
  },
  {
   "cell_type": "code",
   "execution_count": null,
   "metadata": {
    "collapsed": false,
    "jupyter": {
     "outputs_hidden": false
    }
   },
   "outputs": [],
   "source": [
    "dpls_erp[0].smooth(45)\n",
    "fig, axes = plt.subplots(3, 1, sharex=True, figsize=(7, 7),\n",
    "                         constrained_layout=True)\n",
    "plot_dipole(dpls_beta_erp, ax=axes[0], layer='agg', tmin=1.0, color='r',\n",
    "            show=False)\n",
    "plot_dipole(dpls_erp, ax=axes[0], layer='agg', tmin=1.0, color='b', show=False)\n",
    "axes[0].set_title('Beta ERP Comparison')\n",
    "axes[0].legend(['ERP + Beta', 'ERP'])\n",
    "net_beta_erp.cell_response.plot_spikes_raster(ax=axes[1], show=False)\n",
    "axes[1].set_title('Beta + ERP Spike Raster')\n",
    "net_erp.cell_response.plot_spikes_raster(ax=axes[2], show=False)\n",
    "axes[2].set_title('ERP Spike Raster')\n",
    "plt.show()"
   ]
  },
  {
   "cell_type": "markdown",
   "metadata": {},
   "source": [
    "## References\n",
    "\n",
    "- Jones, Stephanie R., Dominique L. Pritchett, Michael A. Sikora, Steven M. Stufflebeam, Matti Hämäläinen, and Christopher I. Moore. 2009. “Quantitative Analysis and Biophysically Realistic Neural Modeling of the MEG Mu Rhythm: Rhythmogenesis and Modulation of Sensory-Evoked Responses.” Journal of Neurophysiology 102 (6): 3554–72. [https://doi.org/10.1152/jn.00535.2009](https://doi.org/10.1152/jn.00535.2009) .\n",
    "\n",
    "- Law, Robert G., Sarah Pugliese, Hyeyoung Shin, Danielle D. Sliva, Shane Lee, Samuel Neymotin, Christopher Moore, and Stephanie R. Jones. 2021. “Thalamocortical Mechanisms Regulating the Relationship between Transient Beta Events and Human Tactile Perception.” bioRxiv. [https://doi.org/10.1101/2021.04.16.440210](https://doi.org/10.1101/2021.04.16.440210).\n",
    "\n",
    "- Silberberg, Gilad, and Henry Markram. 2007. “Disynaptic Inhibition between Neocortical Pyramidal Cells Mediated by Martinotti Cells.” Neuron 53 (5): 735–46. [https://doi.org/10.1016/j.neuron.2007.02.012](https://doi.org/10.1016/j.neuron.2007.02.012)."
   ]
  }
 ],
 "metadata": {
  "kernelspec": {
   "display_name": "website-redesign-mpi",
   "language": "python",
   "name": "python3"
  },
  "language_info": {
   "codemirror_mode": {
    "name": "ipython",
    "version": 3
   },
   "file_extension": ".py",
   "mimetype": "text/x-python",
   "name": "python",
   "nbconvert_exporter": "python",
   "pygments_lexer": "ipython3",
   "version": "3.12.9"
  }
 },
 "nbformat": 4,
 "nbformat_minor": 4
}
