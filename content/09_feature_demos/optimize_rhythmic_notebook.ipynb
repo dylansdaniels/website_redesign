{
  "cells": [
    {
      "cell_type": "markdown",
      "metadata": {},
      "source": [
        "# 9.9: Optimize simulated rhythmic response parameters\n",
        "\n",
        "This example demonstrates how to optimize the power spectral density (PSD)\n",
        "of a current dipole signal with significant alpha and beta spectral\n",
        "components."
      ]
    },
    {
      "cell_type": "code",
      "execution_count": null,
      "metadata": {
        "collapsed": false
      },
      "outputs": [],
      "source": [
        "# Authors: Carolina Fernandez <cxf418@miami.edu>\n",
        "\n",
        "import matplotlib.pyplot as plt"
      ]
    },
    {
      "cell_type": "markdown",
      "metadata": {},
      "source": [
        "Let us import hnn_core\n",
        "\n"
      ]
    },
    {
      "cell_type": "code",
      "execution_count": null,
      "metadata": {
        "collapsed": false
      },
      "outputs": [],
      "source": [
        "from hnn_core import (MPIBackend, jones_2009_model, simulate_dipole)\n",
        "\n",
        "# The number of cores may need modifying depending on your current machine.\n",
        "n_procs = 10"
      ]
    },
    {
      "cell_type": "markdown",
      "metadata": {},
      "source": [
        "First, we define a function that will tell the optimization routine how to\n",
        "modify the network drive parameters. The function will take in the Network\n",
        "object with no attached drives, and a dictionary of the parameters we wish to\n",
        "optimize.\n",
        "\n"
      ]
    },
    {
      "cell_type": "code",
      "execution_count": null,
      "metadata": {
        "collapsed": false
      },
      "outputs": [],
      "source": [
        "def set_params(net, params):\n",
        "\n",
        "    # Proximal (alpha)\n",
        "    weights_ampa_p = {'L2_pyramidal': params['alpha_prox_weight'],\n",
        "                      'L5_pyramidal': 4.4e-5}\n",
        "    syn_delays_p = {'L2_pyramidal': 0.1, 'L5_pyramidal': 1.}\n",
        "\n",
        "    net.add_bursty_drive('alpha_prox',\n",
        "                         tstart=params['alpha_prox_tstart'],\n",
        "                         burst_rate=params['alpha_prox_burst_rate'],\n",
        "                         burst_std=params['alpha_prox_burst_std'],\n",
        "                         numspikes=2,\n",
        "                         spike_isi=10,\n",
        "                         n_drive_cells=10,\n",
        "                         location='proximal',\n",
        "                         weights_ampa=weights_ampa_p,\n",
        "                         synaptic_delays=syn_delays_p)\n",
        "\n",
        "    # Distal (beta)\n",
        "    weights_ampa_d = {'L2_pyramidal': params['alpha_dist_weight'],\n",
        "                      'L5_pyramidal': 4.4e-5}\n",
        "    syn_delays_d = {'L2_pyramidal': 5., 'L5_pyramidal': 5.}\n",
        "\n",
        "    net.add_bursty_drive('alpha_dist',\n",
        "                         tstart=params['alpha_dist_tstart'],\n",
        "                         burst_rate=params['alpha_dist_burst_rate'],\n",
        "                         burst_std=params['alpha_dist_burst_std'],\n",
        "                         numspikes=2,\n",
        "                         spike_isi=10,\n",
        "                         n_drive_cells=10,\n",
        "                         location='distal',\n",
        "                         weights_ampa=weights_ampa_d,\n",
        "                         synaptic_delays=syn_delays_d)"
      ]
    },
    {
      "cell_type": "markdown",
      "metadata": {},
      "source": [
        "Then, we define the constraints.\n",
        "\n",
        "The constraints must be a dictionary of tuples where the first value in each\n",
        "tuple is the lower bound and the second value is the upper bound for the\n",
        "corresponding parameter.\n",
        "\n",
        "The following synaptic weight parameter ranges (units of micro-siemens)\n",
        "were chosen so as to keep the model in physiologically realistic regimes.\n",
        "\n"
      ]
    },
    {
      "cell_type": "code",
      "execution_count": null,
      "metadata": {
        "collapsed": false
      },
      "outputs": [],
      "source": [
        "constraints = dict()\n",
        "constraints.update({'alpha_prox_weight': (4.4e-5, 6.4e-5),\n",
        "                    'alpha_prox_tstart': (45, 55),\n",
        "                    'alpha_prox_burst_rate': (1, 30),\n",
        "                    'alpha_prox_burst_std': (10, 30),\n",
        "                    'alpha_dist_weight': (4.4e-5, 6.4e-5),\n",
        "                    'alpha_dist_tstart': (45, 55),\n",
        "                    'alpha_dist_burst_rate': (1, 30),\n",
        "                    'alpha_dist_burst_std': (10, 30)})"
      ]
    },
    {
      "cell_type": "markdown",
      "metadata": {},
      "source": [
        "Now we define and fit the optimizer.\n",
        "\n"
      ]
    },
    {
      "cell_type": "code",
      "execution_count": null,
      "metadata": {
        "collapsed": false
      },
      "outputs": [],
      "source": [
        "from hnn_core.optimization import Optimizer\n",
        "\n",
        "tstop = 300\n",
        "scale_factor = 3000\n",
        "smooth_window_len = 20\n",
        "\n",
        "net = jones_2009_model()\n",
        "optim = Optimizer(net, tstop=tstop, constraints=constraints,\n",
        "                  set_params=set_params, obj_fun='maximize_psd')\n",
        "\n",
        "# 8-15 Hz (alpha) and 15-30 Hz (beta) are the frequency bands whose\n",
        "# power we wish to maximize in a ratio of 1 to 2.\n",
        "with MPIBackend(n_procs=n_procs, mpi_cmd='mpiexec'):\n",
        "    optim.fit(f_bands=[(9, 11), (19, 21)], relative_bandpower=(1, 2),\n",
        "              scale_factor=scale_factor, smooth_window_len=smooth_window_len)"
      ]
    },
    {
      "cell_type": "markdown",
      "metadata": {},
      "source": [
        "Finally, we can plot the optimized dipole, power spectral density (PSD), and\n",
        "convergence plot.\n",
        "\n"
      ]
    },
    {
      "cell_type": "code",
      "execution_count": null,
      "metadata": {
        "collapsed": false
      },
      "outputs": [],
      "source": [
        "from hnn_core.viz import plot_psd\n",
        "\n",
        "with MPIBackend(n_procs=n_procs, mpi_cmd='mpiexec'):\n",
        "    opt_dpl = simulate_dipole(optim.net_, tstop=tstop, n_trials=1)[0]\n",
        "opt_dpl.scale(scale_factor)\n",
        "opt_dpl.smooth(smooth_window_len)\n",
        "\n",
        "fig, axes = plt.subplots(2, 1, figsize=(6, 6))\n",
        "\n",
        "# plot dipole\n",
        "opt_dpl.plot(ax=axes[0], layer='agg', show=False, color='tab:green')\n",
        "axes[0].legend(['optimized'])\n",
        "\n",
        "# plot psd\n",
        "plot_psd(opt_dpl, fmax=50, ax=axes[1], show=False)\n",
        "\n",
        "# convergence\n",
        "fig1 = optim.plot_convergence()"
      ]
    }
  ],
  "metadata": {
    "kernelspec": {
      "display_name": "Python 3",
      "language": "python",
      "name": "python3"
    },
    "language_info": {
      "codemirror_mode": {
        "name": "ipython",
        "version": 3
      },
      "file_extension": ".py",
      "mimetype": "text/x-python",
      "name": "python",
      "nbconvert_exporter": "python",
      "pygments_lexer": "ipython3",
      "version": "3.12.8"
    }
  },
  "nbformat": 4,
  "nbformat_minor": 0
}
