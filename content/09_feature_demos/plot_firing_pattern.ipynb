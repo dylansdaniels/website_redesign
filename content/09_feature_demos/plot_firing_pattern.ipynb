{
 "cells": [
  {
   "cell_type": "markdown",
   "metadata": {},
   "source": [
    "\n",
    "# 9.1: Plot firing pattern\n",
    "\n",
    "This example demonstrates how to inspect the firing\n",
    "pattern of cells in the HNN model.\n"
   ]
  },
  {
   "cell_type": "code",
   "execution_count": null,
   "metadata": {
    "collapsed": false,
    "jupyter": {
     "outputs_hidden": false
    }
   },
   "outputs": [],
   "source": [
    "# Authors: Mainak Jas <mjas@harvard.mgh.edu>\n",
    "#          Nick Tolley <nick nicholas_tolley@brown.edu>\n",
    "\n",
    "import os.path as op\n",
    "import tempfile"
   ]
  },
  {
   "cell_type": "markdown",
   "metadata": {},
   "source": [
    "Let us import ``hnn_core``.\n",
    "\n"
   ]
  },
  {
   "cell_type": "code",
   "execution_count": null,
   "metadata": {
    "collapsed": false,
    "jupyter": {
     "outputs_hidden": false
    }
   },
   "outputs": [],
   "source": [
    "import hnn_core\n",
    "from hnn_core import read_spikes, jones_2009_model, simulate_dipole"
   ]
  },
  {
   "cell_type": "markdown",
   "metadata": {},
   "source": [
    "Now let's build the network. We have used the same weights as in the\n",
    "`evoked example <sphx_glr_auto_examples_plot_simulate_evoked.py>`.\n",
    "\n"
   ]
  },
  {
   "cell_type": "code",
   "execution_count": null,
   "metadata": {
    "collapsed": false,
    "jupyter": {
     "outputs_hidden": false
    }
   },
   "outputs": [],
   "source": [
    "import matplotlib.pyplot as plt\n",
    "\n",
    "net = jones_2009_model()"
   ]
  },
  {
   "cell_type": "markdown",
   "metadata": {},
   "source": [
    "``net`` does not have any driving inputs and only defines the local network\n",
    "connectivity. Let us go ahead and first add a distal evoked drive.\n",
    "We need to define the AMPA and NMDA weights for the connections. An\n",
    "\"evoked drive\" defines inputs that are normally distributed with a certain\n",
    "mean and standard deviation.\n",
    "\n"
   ]
  },
  {
   "cell_type": "code",
   "execution_count": null,
   "metadata": {
    "collapsed": false,
    "jupyter": {
     "outputs_hidden": false
    }
   },
   "outputs": [],
   "source": [
    "weights_ampa_d1 = {'L2_basket': 0.006562, 'L2_pyramidal': 7e-6,\n",
    "                   'L5_pyramidal': 0.142300}\n",
    "weights_nmda_d1 = {'L2_basket': 0.019482, 'L2_pyramidal': 0.004317,\n",
    "                   'L5_pyramidal': 0.080074}\n",
    "synaptic_delays_d1 = {'L2_basket': 0.1, 'L2_pyramidal': 0.1,\n",
    "                      'L5_pyramidal': 0.1}\n",
    "net.add_evoked_drive(\n",
    "    'evdist1', mu=63.53, sigma=3.85, numspikes=1, weights_ampa=weights_ampa_d1,\n",
    "    weights_nmda=weights_nmda_d1, location='distal',\n",
    "    synaptic_delays=synaptic_delays_d1, event_seed=274)"
   ]
  },
  {
   "cell_type": "markdown",
   "metadata": {},
   "source": [
    "The reason it is called an \"evoked drive\" is it can be used to simulate\n",
    "waveforms resembling evoked responses. Here, we show how to do it with two\n",
    "proximal drives which drive current up the dendrite and one distal drive\n",
    "which drives current down the dendrite producing the negative deflection.\n",
    "\n"
   ]
  },
  {
   "cell_type": "code",
   "execution_count": null,
   "metadata": {
    "collapsed": false,
    "jupyter": {
     "outputs_hidden": false
    }
   },
   "outputs": [],
   "source": [
    "weights_ampa_p1 = {'L2_basket': 0.08831, 'L2_pyramidal': 0.01525,\n",
    "                   'L5_basket': 0.19934, 'L5_pyramidal': 0.00865}\n",
    "synaptic_delays_prox = {'L2_basket': 0.1, 'L2_pyramidal': 0.1,\n",
    "                        'L5_basket': 1., 'L5_pyramidal': 1.}\n",
    "\n",
    "# all NMDA weights are zero; pass None explicitly\n",
    "net.add_evoked_drive(\n",
    "    'evprox1', mu=26.61, sigma=2.47, numspikes=1, weights_ampa=weights_ampa_p1,\n",
    "    weights_nmda=None, location='proximal',\n",
    "    synaptic_delays=synaptic_delays_prox, event_seed=544)"
   ]
  },
  {
   "cell_type": "markdown",
   "metadata": {},
   "source": [
    "Now we add the second proximal evoked drive and simulate the network\n",
    "dynamics with somatic voltage recordings enabled. Note: only AMPA weights\n",
    "differ from first.\n",
    "\n"
   ]
  },
  {
   "cell_type": "code",
   "execution_count": null,
   "metadata": {
    "collapsed": false,
    "jupyter": {
     "outputs_hidden": false
    }
   },
   "outputs": [],
   "source": [
    "weights_ampa_p2 = {'L2_basket': 0.000003, 'L2_pyramidal': 1.438840,\n",
    "                   'L5_basket': 0.008958, 'L5_pyramidal': 0.684013}\n",
    "# all NMDA weights are zero; omit weights_nmda (defaults to None)\n",
    "net.add_evoked_drive(\n",
    "    'evprox2', mu=137.12, sigma=8.33, numspikes=1,\n",
    "    weights_ampa=weights_ampa_p2, location='proximal',\n",
    "    synaptic_delays=synaptic_delays_prox, event_seed=814)\n",
    "\n",
    "dpls = simulate_dipole(net, tstop=170., record_vsec='soma')"
   ]
  },
  {
   "cell_type": "markdown",
   "metadata": {},
   "source": [
    "Here, we explain more details about the data structures and how they can\n",
    "be used to better interpret the data. The cell IDs (gids) uniquely define\n",
    "neurons in the network and are stored in the :class:`~hnn_core.Network`\n",
    "object as a dictionary\n",
    "\n"
   ]
  },
  {
   "cell_type": "code",
   "execution_count": null,
   "metadata": {
    "collapsed": false,
    "jupyter": {
     "outputs_hidden": false
    }
   },
   "outputs": [],
   "source": [
    "gid_ranges = net.gid_ranges\n",
    "print(net.gid_ranges)"
   ]
  },
  {
   "cell_type": "markdown",
   "metadata": {},
   "source": [
    "Simulated voltage in the soma and other cell sections are stored in\n",
    ":class:`~hnn_core.CellResponse` as a dictionary. The CellResponse object\n",
    "stores data produced by individual cells including spikes,\n",
    "voltages and currents.\n",
    "\n"
   ]
  },
  {
   "cell_type": "code",
   "execution_count": null,
   "metadata": {
    "collapsed": false,
    "jupyter": {
     "outputs_hidden": false
    }
   },
   "outputs": [],
   "source": [
    "trial_idx = 0\n",
    "vsec = net.cell_response.vsec[trial_idx]\n",
    "print(vsec.keys())"
   ]
  },
  {
   "cell_type": "markdown",
   "metadata": {},
   "source": [
    "We can plot the firing pattern of individual cells by indexing with the gid\n",
    "\n"
   ]
  },
  {
   "cell_type": "code",
   "execution_count": null,
   "metadata": {
    "collapsed": false,
    "jupyter": {
     "outputs_hidden": false
    }
   },
   "outputs": [],
   "source": [
    "gid = 170\n",
    "plt.figure(figsize=(4, 4), constrained_layout=True)\n",
    "plt.plot(net.cell_response.times, vsec[gid]['soma'])\n",
    "plt.title('%s (gid=%d)' % (net.gid_to_type(gid), gid))\n",
    "plt.xlabel('Time (ms)')\n",
    "plt.ylabel('Voltage (mV)')\n",
    "plt.show()"
   ]
  },
  {
   "cell_type": "markdown",
   "metadata": {},
   "source": [
    "Also, we can plot the spikes in the network and write them to text files.\n",
    "Note that we can use formatting syntax to specify the filename pattern\n",
    "with which each trial will be written ('spk_1.txt', 'spk_2.txt, ...). To\n",
    "read spikes back in, we can use wildcard expressions.\n",
    "\n"
   ]
  },
  {
   "cell_type": "code",
   "execution_count": null,
   "metadata": {
    "collapsed": false,
    "jupyter": {
     "outputs_hidden": false
    }
   },
   "outputs": [],
   "source": [
    "net.cell_response.plot_spikes_raster()\n",
    "with tempfile.TemporaryDirectory() as tmp_dir_name:\n",
    "    net.cell_response.write(op.join(tmp_dir_name, 'spk_%d.txt'))\n",
    "    cell_response = read_spikes(op.join(tmp_dir_name, 'spk_*.txt'))\n",
    "cell_response.plot_spikes_raster()"
   ]
  },
  {
   "cell_type": "markdown",
   "metadata": {},
   "source": [
    "We can additionally calculate the mean spike rates for each cell class by\n",
    "specifying a time window with ``tstart`` and ``tstop``.\n",
    "\n"
   ]
  },
  {
   "cell_type": "code",
   "execution_count": null,
   "metadata": {
    "collapsed": false,
    "jupyter": {
     "outputs_hidden": false
    }
   },
   "outputs": [],
   "source": [
    "all_rates = cell_response.mean_rates(tstart=0, tstop=170,\n",
    "                                     gid_ranges=net.gid_ranges,\n",
    "                                     mean_type='all')\n",
    "trial_rates = cell_response.mean_rates(tstart=0, tstop=170,\n",
    "                                       gid_ranges=net.gid_ranges,\n",
    "                                       mean_type='trial')\n",
    "print('Mean spike rates across trials:')\n",
    "print(all_rates)\n",
    "print('Mean spike rates for individual trials:')\n",
    "print(trial_rates)"
   ]
  },
  {
   "cell_type": "markdown",
   "metadata": {},
   "source": [
    "Finally, we can plot the soma voltage along with the spiking activity with\n",
    "raster plots and histograms for the pyramidal cells.\n",
    "\n"
   ]
  },
  {
   "cell_type": "code",
   "execution_count": null,
   "metadata": {
    "collapsed": false,
    "jupyter": {
     "outputs_hidden": false
    }
   },
   "outputs": [],
   "source": [
    "fig, axes = plt.subplots(3, 1, figsize=(5, 7), sharex=True)\n",
    "\n",
    "for idx in range(10):  # only 10 cells per cell-type\n",
    "    gid = gid_ranges['L2_pyramidal'][idx]\n",
    "    axes[0].plot(net.cell_response.times, vsec[gid]['soma'], color='g')\n",
    "    gid = gid_ranges['L5_pyramidal'][idx]\n",
    "    axes[0].plot(net.cell_response.times, vsec[gid]['soma'], color='r')\n",
    "net.cell_response.plot_spikes_raster(ax=axes[1])\n",
    "net.cell_response.plot_spikes_hist(ax=axes[2],\n",
    "                                   spike_types=['L5_pyramidal',\n",
    "                                                'L2_pyramidal'])"
   ]
  }
 ],
 "metadata": {
  "kernelspec": {
   "display_name": "Python 3 (ipykernel)",
   "language": "python",
   "name": "python3"
  },
  "language_info": {
   "codemirror_mode": {
    "name": "ipython",
    "version": 3
   },
   "file_extension": ".py",
   "mimetype": "text/x-python",
   "name": "python",
   "nbconvert_exporter": "python",
   "pygments_lexer": "ipython3",
   "version": "3.12.8"
  }
 },
 "nbformat": 4,
 "nbformat_minor": 4
}
