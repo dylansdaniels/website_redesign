{
 "cells": [
  {
   "cell_type": "markdown",
   "metadata": {},
   "source": [
    "\n",
    "# 8.1: From MEG sensor-space data to HNN simulation\n",
    "\n",
    "This example demonstrates how to calculate an inverse solution of the median\n",
    "nerve evoked response potential (ERP) in S1 from the MNE somatosensory dataset,\n",
    "and then simulate a biophysical model network that reproduces the observed\n",
    "dynamics. Note that we do not expound on how we came up with the sequence of\n",
    "evoked drives used in this example, rather, we only demonstrate its\n",
    "implementation. For those who want more background on the HNN model and the\n",
    "process used to articulate the proximal and distal drives needed to simulate\n",
    "evoked responses, see the `HNN ERP tutorial`. The sequence of evoked drives\n",
    "presented here is not part of a current publication but is motivated by prior\n",
    "studies [1], [2].\n"
   ]
  },
  {
   "cell_type": "code",
   "execution_count": null,
   "metadata": {
    "collapsed": false,
    "jupyter": {
     "outputs_hidden": false
    }
   },
   "outputs": [],
   "source": [
    "# Authors: Mainak Jas <mainakjas@gmail.com>\n",
    "#          Ryan Thorpe <ryan_thorpe@brown.edu>\n",
    "\n",
    "# sphinx_gallery_thumbnail_number = 2"
   ]
  },
  {
   "cell_type": "markdown",
   "metadata": {},
   "source": [
    "Note: This specific notebook requires the installation of several other, non-HNN packages in order to run and plot MNE output properly. The next cell will install these packages into your Python environment automatically. "
   ]
  },
  {
   "cell_type": "code",
   "execution_count": null,
   "metadata": {},
   "outputs": [],
   "source": [
    "%pip install -q mne nibabel ipyevents \"pyvista[all]\" pyvistaqt"
   ]
  },
  {
   "cell_type": "code",
   "execution_count": null,
   "metadata": {
    "collapsed": false,
    "jupyter": {
     "outputs_hidden": false
    }
   },
   "outputs": [],
   "source": [
    "# Needed for certain plotting to work\n",
    "import pyvista as pv\n",
    "from mne.viz import set_3d_backend\n",
    "set_3d_backend('notebook')\n",
    "pv.set_jupyter_backend('client')"
   ]
  },
  {
   "cell_type": "markdown",
   "metadata": {},
   "source": [
    "We will import the packages needed for computing the inverse solution\n",
    "from the MNE somatosensory dataset. `MNE`, and its dependency `NiBabel`\n",
    "should have been installed using the previous `pip` command. The\n",
    "somatosensory dataset can be downloaded by importing ``somato`` from\n",
    "``mne.datasets``."
   ]
  },
  {
   "cell_type": "code",
   "execution_count": null,
   "metadata": {
    "collapsed": false,
    "jupyter": {
     "outputs_hidden": false
    }
   },
   "outputs": [],
   "source": [
    "import os.path as op\n",
    "import matplotlib.pyplot as plt\n",
    "\n",
    "import mne\n",
    "from mne.datasets import somato\n",
    "from mne.minimum_norm import apply_inverse, make_inverse_operator"
   ]
  },
  {
   "cell_type": "markdown",
   "metadata": {},
   "source": [
    "Now we set the the path of the ``somato`` dataset for subject ``'01'``.\n",
    "\n"
   ]
  },
  {
   "cell_type": "code",
   "execution_count": null,
   "metadata": {
    "collapsed": false,
    "jupyter": {
     "outputs_hidden": false
    }
   },
   "outputs": [],
   "source": [
    "data_path = somato.data_path()\n",
    "subject = '01'\n",
    "task = 'somato'\n",
    "raw_fname = op.join(data_path, 'sub-{}'.format(subject), 'meg',\n",
    "                    'sub-{}_task-{}_meg.fif'.format(subject, task))\n",
    "fwd_fname = op.join(data_path, 'derivatives', 'sub-{}'.format(subject),\n",
    "                    'sub-{}_task-{}-fwd.fif'.format(subject, task))\n",
    "subjects_dir = op.join(data_path, 'derivatives', 'freesurfer', 'subjects')"
   ]
  },
  {
   "cell_type": "markdown",
   "metadata": {},
   "source": [
    "Then, we load the raw data and estimate the inverse operator.\n",
    "\n"
   ]
  },
  {
   "cell_type": "code",
   "execution_count": null,
   "metadata": {
    "collapsed": false,
    "jupyter": {
     "outputs_hidden": false
    }
   },
   "outputs": [],
   "source": [
    "# Read and band-pass filter the raw data\n",
    "raw = mne.io.read_raw_fif(raw_fname, preload=True)\n",
    "l_freq, h_freq = 1, 40\n",
    "raw.filter(l_freq, h_freq)\n",
    "\n",
    "# Identify stimulus events associated with MEG time series in the dataset\n",
    "events = mne.find_events(raw, stim_channel='STI 014')\n",
    "\n",
    "# Define epochs within the time series\n",
    "event_id, tmin, tmax = 1, -.2, .17\n",
    "baseline = None\n",
    "epochs = mne.Epochs(raw, events, event_id, tmin, tmax, baseline=baseline,\n",
    "                    reject=dict(grad=4000e-13, eog=350e-6), preload=True)\n",
    "\n",
    "# Compute the inverse operator\n",
    "fwd = mne.read_forward_solution(fwd_fname)\n",
    "cov = mne.compute_covariance(epochs)\n",
    "inv = make_inverse_operator(epochs.info, fwd, cov)"
   ]
  },
  {
   "cell_type": "markdown",
   "metadata": {},
   "source": [
    "There are several methods to do source reconstruction. Some of the methods\n",
    "such as MNE are distributed source methods whereas dipole fitting will\n",
    "estimate the location and amplitude of a single current dipole. At the\n",
    "moment, we do not offer explicit recommendations on which source\n",
    "reconstruction technique is best for HNN. However, we do want our users\n",
    "to note that the dipole currents simulated with HNN are assumed to be normal\n",
    "to the cortical surface. Hence, using the option ``pick_ori='normal'`` is\n",
    "appropriate.\n",
    "\n"
   ]
  },
  {
   "cell_type": "code",
   "execution_count": null,
   "metadata": {
    "collapsed": false,
    "jupyter": {
     "outputs_hidden": false
    }
   },
   "outputs": [],
   "source": [
    "snr = 3.\n",
    "lambda2 = 1. / snr ** 2\n",
    "evoked = epochs.average()\n",
    "stc = apply_inverse(evoked, inv, lambda2, method='MNE',\n",
    "                    pick_ori=\"normal\", return_residual=False,\n",
    "                    verbose=True)"
   ]
  },
  {
   "cell_type": "markdown",
   "metadata": {},
   "source": [
    "To extract the primary response in primary somatosensory cortex (S1), we\n",
    "create a label for the postcentral gyrus (S1) in source-space\n",
    "\n"
   ]
  },
  {
   "cell_type": "code",
   "execution_count": null,
   "metadata": {
    "collapsed": false,
    "jupyter": {
     "outputs_hidden": false
    }
   },
   "outputs": [],
   "source": [
    "hemi = 'rh'\n",
    "label_tag = 'G_postcentral'\n",
    "label_s1 = mne.read_labels_from_annot(subject, parc='aparc.a2009s', hemi=hemi,\n",
    "                                      regexp=label_tag,\n",
    "                                      subjects_dir=subjects_dir)[0]"
   ]
  },
  {
   "cell_type": "markdown",
   "metadata": {},
   "source": [
    "Visualizing the distributed S1 activation in reference to the geometric\n",
    "structure of the cortex (i.e., plotted on a structural MRI) can help us\n",
    "figure out how to orient the dipole. Note that in the HNN framework,\n",
    "positive and negative deflections of a current dipole source correspond to\n",
    "upwards (from deep to superficial) and downwards (from superficial to deep)\n",
    "current flow, respectively. Uncomment the following code to open an\n",
    "interactive 3D render of the brain and its surface activation (requires the\n",
    "``pyvista`` python library). You should get 2 plots, the first showing the\n",
    "post-central gyrus label from which the dipole time course was extracted and\n",
    "the second showing MNE activation at 0.040 sec that resemble the following\n",
    "images.\n",
    "\n"
   ]
  },
  {
   "cell_type": "code",
   "execution_count": null,
   "metadata": {
    "collapsed": false,
    "jupyter": {
     "outputs_hidden": false
    }
   },
   "outputs": [],
   "source": [
    "'''\n",
    "Brain = mne.viz.get_brain_class()\n",
    "brain_label = Brain(subject, hemi, 'white', subjects_dir=subjects_dir)\n",
    "brain_label.add_label(label_s1, color='green', alpha=0.9)\n",
    "stc_label = stc.in_label(label_s1)\n",
    "brain = stc_label.plot(subjects_dir=subjects_dir, hemi=hemi, surface='white',\n",
    "                       view_layout='horizontal', initial_time=0.04,\n",
    "                       backend='pyvista')\n",
    "'''"
   ]
  },
  {
   "cell_type": "markdown",
   "metadata": {},
   "source": [
    "![mne_label_fig](https://user-images.githubusercontent.com/20212206/106524603-cfe75c80-64b0-11eb-9607-3415195c3e7a.png)"
   ]
  },
  {
   "cell_type": "markdown",
   "metadata": {},
   "source": [
    "![mne_activity_fig](https://user-images.githubusercontent.com/20212206/106524542-b514e800-64b0-11eb-835e-497454e75eb9.png)"
   ]
  },
  {
   "cell_type": "markdown",
   "metadata": {},
   "source": [
    "Now we extract the representative time course of dipole activation in our\n",
    "labeled brain region using ``mode='pca_flip'`` (see `this MNE-python\n",
    "example`_ for more details). Note that the most prominent component of the\n",
    "median nerve response occurs in the posterior wall of the central sulcus at\n",
    "~0.040 sec. Since the dipolar activity here is negative, we orient the\n",
    "extracted waveform so that the deflection at ~0.040 sec is pointed downwards.\n",
    "Thus, the ~0.040 sec deflection corresponds to current flow traveling from\n",
    "superficial to deep layers of cortex.\n",
    "\n"
   ]
  },
  {
   "cell_type": "code",
   "execution_count": null,
   "metadata": {
    "collapsed": false,
    "jupyter": {
     "outputs_hidden": false
    }
   },
   "outputs": [],
   "source": [
    "flip_data = stc.extract_label_time_course(label_s1, inv['src'],\n",
    "                                          mode='pca_flip')\n",
    "dipole_tc = -flip_data[0] * 1e9\n",
    "\n",
    "plt.figure()\n",
    "plt.plot(1e3 * stc.times, dipole_tc, 'ro--')\n",
    "plt.xlabel('Time (ms)')\n",
    "plt.ylabel('Current Dipole (nAm)')\n",
    "plt.xlim((0, 170))\n",
    "plt.axhline(0, c='k', ls=':')\n",
    "plt.show()"
   ]
  },
  {
   "cell_type": "markdown",
   "metadata": {},
   "source": [
    "Now, let us try to simulate the same with ``hnn-core``. We read in the\n",
    "network parameters from ``N20.json`` and instantiate the network.\n",
    "\n"
   ]
  },
  {
   "cell_type": "code",
   "execution_count": null,
   "metadata": {
    "collapsed": false,
    "jupyter": {
     "outputs_hidden": false
    }
   },
   "outputs": [],
   "source": [
    "import hnn_core\n",
    "from hnn_core import simulate_dipole, jones_2009_model\n",
    "from hnn_core import average_dipoles, JoblibBackend\n",
    "\n",
    "hnn_core_root = op.dirname(hnn_core.__file__)\n",
    "params_fname = op.join(hnn_core_root, 'param', 'N20.json')\n",
    "net = jones_2009_model(params_fname)"
   ]
  },
  {
   "cell_type": "markdown",
   "metadata": {},
   "source": [
    "To simulate the source of the median nerve evoked response, we add a\n",
    "sequence of synchronous evoked drives: 1 proximal, 2 distal, and 1 final\n",
    "proximal drive. In order to understand the physiological implications of\n",
    "proximal and distal drive as well as the general process used to articulate\n",
    "a sequence of exogenous drive for simulating evoked responses, see the\n",
    "`HNN ERP tutorial`_. Note that setting ``n_drive_cells=1`` and\n",
    "``cell_specific=False`` creates a drive with synchronous input across cells\n",
    "in the network.\n",
    "\n"
   ]
  },
  {
   "cell_type": "code",
   "execution_count": null,
   "metadata": {
    "collapsed": false,
    "jupyter": {
     "outputs_hidden": false
    }
   },
   "outputs": [],
   "source": [
    "# Early proximal drive\n",
    "weights_ampa_p = {'L2_basket': 0.0036, 'L2_pyramidal': 0.0039,\n",
    "                  'L5_basket': 0.0019, 'L5_pyramidal': 0.0020}\n",
    "weights_nmda_p = {'L2_basket': 0.0029, 'L2_pyramidal': 0.0005,\n",
    "                  'L5_basket': 0.0030, 'L5_pyramidal': 0.0019}\n",
    "synaptic_delays_p = {'L2_basket': 0.1, 'L2_pyramidal': 0.1,\n",
    "                     'L5_basket': 1.0, 'L5_pyramidal': 1.0}\n",
    "\n",
    "net.add_evoked_drive(\n",
    "    'evprox1', mu=21., sigma=4., numspikes=1, location='proximal',\n",
    "    n_drive_cells=1, cell_specific=False, weights_ampa=weights_ampa_p,\n",
    "    weights_nmda=weights_nmda_p, synaptic_delays=synaptic_delays_p,\n",
    "    event_seed=276)\n",
    "\n",
    "# Late proximal drive\n",
    "weights_ampa_p = {'L2_basket': 0.003, 'L2_pyramidal': 0.0039,\n",
    "                  'L5_basket': 0.004, 'L5_pyramidal': 0.0020}\n",
    "weights_nmda_p = {'L2_basket': 0.001, 'L2_pyramidal': 0.0005,\n",
    "                  'L5_basket': 0.002, 'L5_pyramidal': 0.0020}\n",
    "synaptic_delays_p = {'L2_basket': 0.1, 'L2_pyramidal': 0.1,\n",
    "                     'L5_basket': 1.0, 'L5_pyramidal': 1.0}\n",
    "\n",
    "net.add_evoked_drive(\n",
    "    'evprox2', mu=134., sigma=4.5, numspikes=1, location='proximal',\n",
    "    n_drive_cells=1, cell_specific=False, weights_ampa=weights_ampa_p,\n",
    "    weights_nmda=weights_nmda_p, synaptic_delays=synaptic_delays_p,\n",
    "    event_seed=276)\n",
    "\n",
    "# Early distal drive\n",
    "weights_ampa_d = {'L2_basket': 0.0043, 'L2_pyramidal': 0.0032,\n",
    "                  'L5_pyramidal': 0.0009}\n",
    "weights_nmda_d = {'L2_basket': 0.0029, 'L2_pyramidal': 0.0051,\n",
    "                  'L5_pyramidal': 0.0010}\n",
    "synaptic_delays_d = {'L2_basket': 0.1, 'L2_pyramidal': 0.1,\n",
    "                     'L5_pyramidal': 0.1}\n",
    "\n",
    "net.add_evoked_drive(\n",
    "    'evdist1', mu=32., sigma=2.5, numspikes=1, location='distal',\n",
    "    n_drive_cells=1, cell_specific=False, weights_ampa=weights_ampa_d,\n",
    "    weights_nmda=weights_nmda_d, synaptic_delays=synaptic_delays_d,\n",
    "    event_seed=277)\n",
    "\n",
    "# Late distal drive\n",
    "weights_ampa_d = {'L2_basket': 0.0041, 'L2_pyramidal': 0.0019,\n",
    "                  'L5_pyramidal': 0.0018}\n",
    "weights_nmda_d = {'L2_basket': 0.0032, 'L2_pyramidal': 0.0018,\n",
    "                  'L5_pyramidal': 0.0017}\n",
    "synaptic_delays_d = {'L2_basket': 0.1, 'L2_pyramidal': 0.1,\n",
    "                     'L5_pyramidal': 0.1}\n",
    "\n",
    "net.add_evoked_drive(\n",
    "    'evdist2', mu=84., sigma=4.5, numspikes=1, location='distal',\n",
    "    n_drive_cells=1, cell_specific=False, weights_ampa=weights_ampa_d,\n",
    "    weights_nmda=weights_nmda_d, synaptic_delays=synaptic_delays_d,\n",
    "    event_seed=275)"
   ]
  },
  {
   "cell_type": "markdown",
   "metadata": {},
   "source": [
    "Now we run the simulation over 2 trials so that we can plot the average\n",
    "aggregate dipole. For a better match to the empirical waveform, set\n",
    "``n_trials`` to be >=25.\n",
    "\n"
   ]
  },
  {
   "cell_type": "code",
   "execution_count": null,
   "metadata": {
    "collapsed": false,
    "jupyter": {
     "outputs_hidden": false
    }
   },
   "outputs": [],
   "source": [
    "n_trials = 2\n",
    "# n_trials = 25\n",
    "with JoblibBackend(n_jobs=2):\n",
    "    dpls = simulate_dipole(net, tstop=170., n_trials=n_trials)"
   ]
  },
  {
   "cell_type": "markdown",
   "metadata": {},
   "source": [
    "Since the model is a reduced representation of the larger network\n",
    "contributing to the response, the model response is noisier than it would be\n",
    "in the net activity from a larger network where these effects are averaged\n",
    "out, and the dipole amplitude is smaller than the recorded data. The\n",
    "post-processing steps of smoothing and scaling the simulated dipole response\n",
    "allow us to more accurately approximate the true signal responsible for the\n",
    "recorded macroscopic evoked response [1]_, [2]_.\n",
    "\n"
   ]
  },
  {
   "cell_type": "code",
   "execution_count": null,
   "metadata": {
    "collapsed": false,
    "jupyter": {
     "outputs_hidden": false
    }
   },
   "outputs": [],
   "source": [
    "dpl_smooth_win = 20\n",
    "dpl_scalefctr = 12\n",
    "for dpl in dpls:\n",
    "    dpl.smooth(dpl_smooth_win)\n",
    "    dpl.scale(dpl_scalefctr)"
   ]
  },
  {
   "cell_type": "markdown",
   "metadata": {},
   "source": [
    "Finally, we plot the driving spike histogram, empirical and simulated median\n",
    "nerve evoked response waveforms, and output spike histogram.\n",
    "\n"
   ]
  },
  {
   "cell_type": "code",
   "execution_count": null,
   "metadata": {
    "collapsed": false,
    "jupyter": {
     "outputs_hidden": false
    }
   },
   "outputs": [],
   "source": [
    "fig, axes = plt.subplots(3, 1, sharex=True, figsize=(6, 6),\n",
    "                         constrained_layout=True)\n",
    "net.cell_response.plot_spikes_hist(ax=axes[0],\n",
    "                                   spike_types=['evprox', 'evdist'],\n",
    "                                   show=False)\n",
    "axes[1].axhline(0, c='k', ls=':', label='_nolegend_')\n",
    "axes[1].plot(1e3 * stc.times, dipole_tc, 'r--')\n",
    "average_dipoles(dpls).plot(ax=axes[1], show=False)\n",
    "axes[1].legend(['MNE label average', 'HNN simulation'])\n",
    "axes[1].set_ylabel('Current Dipole (nAm)')\n",
    "net.cell_response.plot_spikes_raster(ax=axes[2])"
   ]
  },
  {
   "cell_type": "markdown",
   "metadata": {},
   "source": [
    "## References\n",
    "\n",
    "[1] Jones, S. R., Pritchett, D. L., Stufflebeam, S. M., Hämäläinen, M.\n",
    "   & Moore, C. I. Neural correlates of tactile detection: a combined\n",
    "   magnetoencephalography and biophysically based computational modeling\n",
    "   study. J. Neurosci. 27, 10751–10764 (2007).\n",
    "\n",
    "[2] Neymotin SA, Daniels DS, Caldwell B, McDougal RA, Carnevale NT,\n",
    "   Jas M, Moore CI, Hines ML, Hämäläinen M, Jones SR. Human Neocortical\n",
    "   Neurosolver (HNN), a new software tool for interpreting the cellular and\n",
    "   network origin of human MEG/EEG data. eLife 9, e51214 (2020).\n",
    "   https://doi.org/10.7554/eLife.51214\n",
    "\n"
   ]
  }
 ],
 "metadata": {
  "kernelspec": {
   "display_name": "website-redesign",
   "language": "python",
   "name": "python3"
  },
  "language_info": {
   "codemirror_mode": {
    "name": "ipython",
    "version": 3
   },
   "file_extension": ".py",
   "mimetype": "text/x-python",
   "name": "python",
   "nbconvert_exporter": "python",
   "pygments_lexer": "ipython3",
   "version": "3.12.9"
  }
 },
 "nbformat": 4,
 "nbformat_minor": 4
}
