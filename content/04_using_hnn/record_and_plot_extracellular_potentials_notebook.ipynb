{
 "cells": [
  {
   "cell_type": "markdown",
   "metadata": {},
   "source": [
    "\n",
    "# 4.2: Record and plot extracellular potentials\n",
    "\n",
    "The main output of HNN simulations is the 'dipole' waveform, i.e., the net\n",
    "intracellular current flowing in pyramidal cell apical dendrites. At the large\n",
    "distances between cells and M/EEG sensors, this 'primary' current is the main\n",
    "contributor to the measured fields. Close to the cells, the local field\n",
    "potential (LFP) is the result of intracellular current leaking into the\n",
    "extracellular medium through active and passive membrane channels. Under some\n",
    "simplifying assumptions, we may approximate the LFP at virtual electrodes\n",
    "placed in and around the HNN network model.\n"
   ]
  },
  {
   "cell_type": "code",
   "execution_count": null,
   "metadata": {
    "collapsed": false,
    "jupyter": {
     "outputs_hidden": false
    }
   },
   "outputs": [],
   "source": [
    "# Authors: Christopher Bailey <cjb@cfin.au.dk>\n",
    "#          Mainak Jas <mainakjas@gmail.com>\n",
    "#          Nick Tolley <nicholas_tolley@brown.edu>\n",
    "\n",
    "import matplotlib.pyplot as plt\n",
    "\n",
    "from hnn_core import jones_2009_model, simulate_dipole\n",
    "from hnn_core.network_models import add_erp_drives_to_jones_model"
   ]
  },
  {
   "cell_type": "markdown",
   "metadata": {},
   "source": [
    "The default network model defined in (Jones et al. 2009) consists of a\n",
    "square grid of pyramidal cells. The in-plane distance between pyramidal cell\n",
    "somas on the grid can be set by the user, which will have an influence on the\n",
    "extracellular potentials (but not on the calculated net intracellular dipole\n",
    "moment). In this example, we'll simulate a network of model cells spaced\n",
    "30 um apart. To drive the network dynamics, we'll use three evoked 'ERP'\n",
    "drives; see the event-related potential (ERP) example for details."
   ]
  },
  {
   "cell_type": "code",
   "execution_count": null,
   "metadata": {
    "collapsed": false,
    "jupyter": {
     "outputs_hidden": false
    }
   },
   "outputs": [],
   "source": [
    "net = jones_2009_model()\n",
    "add_erp_drives_to_jones_model(net)\n",
    "\n",
    "net.set_cell_positions(inplane_distance=30.)"
   ]
  },
  {
   "cell_type": "markdown",
   "metadata": {},
   "source": [
    "Extracellular recordings require specifying the electrode positions. It can be\n",
    "useful to visualize the cells of the network to decide on the placement of\n",
    "each electrode.\n",
    "\n"
   ]
  },
  {
   "cell_type": "code",
   "execution_count": null,
   "metadata": {
    "collapsed": false,
    "jupyter": {
     "outputs_hidden": false
    }
   },
   "outputs": [],
   "source": [
    "net.plot_cells(show=False)\n",
    "plt.show()"
   ]
  },
  {
   "cell_type": "markdown",
   "metadata": {},
   "source": [
    "The default network consists of 2 layers (L2 and L5), within which the cell\n",
    "somas are arranged in a regular grid, and apical dendrites are aligned along\n",
    "the z-axis. We can simulate a linear multielectrode array with 100 um\n",
    "intercontact spacing (Kajikawa and Schroeder 2011) by specifying a list of (x, y, z) coordinate\n",
    "triplets. The L5 pyramidal cell somas are at z=0 um, with apical dendrites\n",
    "extending up to z~2000 um. L2 pyramidal cell somas reside at\n",
    "z~1300 um, and have apical dendrites extending to z~2300 um. We'll place the\n",
    "recording array in the center of the network. By default, a value of\n",
    "0.3 S/m is used for the constant extracellular conductivity and the\n",
    "'point source approximation' for calculations; see \n",
    "[hnn_core.Network.add_electrode_array](https://jonescompneurolab.github.io/hnn-core/stable/generated/hnn_core.Network.html#hnn_core.Network.add_electrode_array)\n",
    "for details."
   ]
  },
  {
   "cell_type": "code",
   "execution_count": null,
   "metadata": {
    "collapsed": false,
    "jupyter": {
     "outputs_hidden": false
    }
   },
   "outputs": [],
   "source": [
    "depths = list(range(-325, 2150, 100))\n",
    "electrode_pos = [(135, 135, dep) for dep in depths]\n",
    "net.add_electrode_array('shank1', electrode_pos)"
   ]
  },
  {
   "cell_type": "markdown",
   "metadata": {},
   "source": [
    "The electrode arrays are stored under `Network.rec_arrays` as a dictionary of \n",
    "[hnn_core.extracellular.ExtracellularArray](https://jonescompneurolab.github.io/hnn-core/stable/generated/hnn_core.extracellular.ExtracellularArray.html#hnn_core.extracellular.ExtracellularArray)\n",
    "objects that are now attached to the network and will be recorded during the simulation. Note that\n",
    "calculating the extracellular potentials requires additional computational\n",
    "resources and will thus slightly slow down the simulation.\n",
    "[Using MPI](https://dylansdaniels.github.io/website_redesign/content/09_feature_demos/use_mpi_backend_for_parallelization.html)\n",
    "will speed up computation considerably."
   ]
  },
  {
   "cell_type": "code",
   "execution_count": null,
   "metadata": {
    "collapsed": false,
    "jupyter": {
     "outputs_hidden": false
    }
   },
   "outputs": [],
   "source": [
    "print(net.rec_arrays)\n",
    "net.plot_cells(show=False)\n",
    "plt.show()\n",
    "\n",
    "dpl = simulate_dipole(net, tstop=170)"
   ]
  },
  {
   "cell_type": "markdown",
   "metadata": {},
   "source": [
    "For plotting both aggregate dipole moment and LFP traces, we'll use a 10 ms\n",
    "smoothing window, after which both data can be decimated by a factor of 20\n",
    "from 40 to 2 kHz sampling rates (note that decimation is applied in two\n",
    "steps). Decimation speeds up plotting significantly.\n",
    "\n"
   ]
  },
  {
   "cell_type": "code",
   "execution_count": null,
   "metadata": {},
   "outputs": [],
   "source": [
    "trial_idx = 0\n",
    "window_len = 10  # ms\n",
    "decimate = [5, 4]  # from 40k to 8k to 2k\n",
    "\n",
    "# Then plot the aggregate dipole time series on its own axis\n",
    "dpl[trial_idx].smooth(window_len=window_len)\n",
    "\n",
    "# Use the same smoothing window on the LFP traces to allow comparison to dipole\n",
    "electrode_data = net.rec_arrays['shank1'][trial_idx].smooth(window_len=window_len)"
   ]
  },
  {
   "cell_type": "code",
   "execution_count": null,
   "metadata": {},
   "outputs": [],
   "source": [
    "fig, axs = plt.subplots(4, 1, \n",
    "                        sharex=True, \n",
    "                        figsize=(6, 8),\n",
    "                        gridspec_kw={'height_ratios': [1, 2, 2, 2]})\n",
    "\n",
    "dpl[trial_idx].plot(ax=axs[0], decim=decimate, show=False)\n",
    "axs[0].set_xlabel('')\n",
    "axs[0].set_ylabel('Dipole moment\\n(nAm)')\n",
    "axs[0].set_title('Aggregate Dipole (L2/3 + L5)')\n",
    "\n",
    "# Add spike raster to subplot\n",
    "net.cell_response.plot_spikes_raster(ax=axs[1], show=False)\n",
    "axs[1].set_xlabel('')\n",
    "axs[1].set_title('Raster Plot')\n",
    "\n",
    "# Add smoothed LFP traces to next subplot\n",
    "electrode_data.plot_lfp(ax=axs[2], decim=decimate, show=False)\n",
    "axs[2].grid(True, which='major', axis='x')\n",
    "axs[2].set_xlabel('')\n",
    "axs[2].set_yticklabels('')\n",
    "axs[2].set_title('LFP Traces')\n",
    "\n",
    "# Finally, add the CSD to the bottom subplot\n",
    "electrode_data.plot_csd(ax=axs[3], show=False)\n",
    "axs[3].set_xlabel('Time (ms)')\n",
    "axs[3].set_ylabel('Electrode depth (um)')\n",
    "axs[3].set_title('CSD Plot')\n",
    "plt.tight_layout()\n",
    "plt.show()"
   ]
  },
  {
   "cell_type": "markdown",
   "metadata": {},
   "source": [
    "## References\n",
    "\n",
    "-  Jones, Stephanie R., Dominique L. Pritchett, Michael A. Sikora, Steven M. Stufflebeam, Matti Hämäläinen, and Christopher I. Moore. 2009. “Quantitative Analysis and Biophysically Realistic Neural Modeling of the MEG Mu Rhythm: Rhythmogenesis and Modulation of Sensory-Evoked Responses.” Journal of Neurophysiology 102 (6): 3554–72. [https://doi.org/10.1152/jn.00535.2009](https://doi.org/10.1152/jn.00535.2009). \n",
    "\n",
    "- Kajikawa, Yoshinao, and Charles E. Schroeder. 2011. “How Local Is the Local Field Potential?” Neuron 72 (5): 847–58. [https://doi.org/10.1016/j.neuron.2011.09.029](https://doi.org/10.1016/j.neuron.2011.09.029)."
   ]
  },
  {
   "cell_type": "code",
   "execution_count": null,
   "metadata": {},
   "outputs": [],
   "source": []
  }
 ],
 "metadata": {
  "kernelspec": {
   "display_name": "Python 3 (ipykernel)",
   "language": "python",
   "name": "python3"
  },
  "language_info": {
   "codemirror_mode": {
    "name": "ipython",
    "version": 3
   },
   "file_extension": ".py",
   "mimetype": "text/x-python",
   "name": "python",
   "nbconvert_exporter": "python",
   "pygments_lexer": "ipython3",
   "version": "3.12.2"
  }
 },
 "nbformat": 4,
 "nbformat_minor": 4
}
