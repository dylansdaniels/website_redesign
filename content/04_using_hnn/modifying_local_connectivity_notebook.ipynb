{
 "cells": [
  {
   "cell_type": "markdown",
   "metadata": {},
   "source": [
    "\n",
    "# 4.3: Modifying local connectivity\n",
    "\n",
    "This example demonstrates how to modify the network connectivity.\n"
   ]
  },
  {
   "cell_type": "code",
   "execution_count": null,
   "metadata": {
    "collapsed": false,
    "jupyter": {
     "outputs_hidden": false
    }
   },
   "outputs": [],
   "source": [
    "# Author: Nick Tolley <nicholas_tolley@brown.edu>\n",
    "\n",
    "import os.path as op\n",
    "\n",
    "import matplotlib.pyplot as plt"
   ]
  },
  {
   "cell_type": "markdown",
   "metadata": {},
   "source": [
    "Let us import ``hnn_core``.\n",
    "\n"
   ]
  },
  {
   "cell_type": "code",
   "execution_count": null,
   "metadata": {
    "collapsed": false,
    "jupyter": {
     "outputs_hidden": false
    }
   },
   "outputs": [],
   "source": [
    "import hnn_core\n",
    "from hnn_core import jones_2009_model, simulate_dipole"
   ]
  },
  {
   "cell_type": "markdown",
   "metadata": {},
   "source": [
    "To explore how to modify network connectivity, we will start with simulating\n",
    "the evoked response from the [ERP example](https://dylansdaniels.github.io/website_redesign/content/05_erps/hnn_core.html)\n",
    "and\n",
    "explore how it changes with new connections. We first instantiate the\n",
    "network. (Note: Setting `add_drives_from_params=True` loads a set of\n",
    "predefined drives without the drives API shown previously)."
   ]
  },
  {
   "cell_type": "code",
   "execution_count": null,
   "metadata": {
    "collapsed": false,
    "jupyter": {
     "outputs_hidden": false
    }
   },
   "outputs": [],
   "source": [
    "net_erp = jones_2009_model(add_drives_from_params=True)"
   ]
  },
  {
   "cell_type": "markdown",
   "metadata": {},
   "source": [
    "Instantiating the network comes with a predefined set of connections that\n",
    "reflect the canonical neocortical microcircuit. `net.connectivity`\n",
    "is a list of dictionaries which detail every cell-cell, and drive-cell\n",
    "connection. The weights of these connections can be visualized with\n",
    "[hnn_core.viz.plot_connectivity_matrix](https://jonescompneurolab.github.io/hnn-core/stable/generated/hnn_core.viz.plot_connectivity_matrix.html#hnn_core.viz.plot_connectivity_matrix)\n",
    "as well as\n",
    "[hnn_core.viz.plot_cell_connectivity](https://jonescompneurolab.github.io/hnn-core/stable/generated/hnn_core.viz.plot_cell_connectivity.html#hnn_core.viz.plot_cell_connectivity).\n",
    "We can search for specific\n",
    "connections using `pick_connection` which returns the indices\n",
    "of `net.connectivity` that match the provided parameters."
   ]
  },
  {
   "cell_type": "code",
   "execution_count": null,
   "metadata": {
    "collapsed": false,
    "jupyter": {
     "outputs_hidden": false
    }
   },
   "outputs": [],
   "source": [
    "from hnn_core.viz import plot_connectivity_matrix, plot_cell_connectivity\n",
    "from hnn_core.network import pick_connection\n",
    "\n",
    "print(len(net_erp.connectivity))\n",
    "\n",
    "conn_indices = pick_connection(\n",
    "    net=net_erp, src_gids='L5_basket', target_gids='L5_pyramidal',\n",
    "    loc='soma', receptor='gabaa')\n",
    "conn_idx = conn_indices[0]\n",
    "print(net_erp.connectivity[conn_idx])\n",
    "plot_connectivity_matrix(net_erp, conn_idx, show=False)\n",
    "\n",
    "# Note here that `'src_gids'` is a `set` object\n",
    "# The `.pop()` method can be used to sample a random element\n",
    "src_gid = net_erp.connectivity[conn_idx]['src_gids'].copy().pop()\n",
    "fig = plot_cell_connectivity(net_erp, conn_idx, src_gid, show=False)\n",
    "plt.show()"
   ]
  },
  {
   "cell_type": "markdown",
   "metadata": {},
   "source": [
    "Data recorded during simulations are stored under\n",
    "[CellResponse](https://jonescompneurolab.github.io/hnn-core/stable/generated/hnn_core.CellResponse.html#hnn_core.CellResponse).\n",
    "Spiking activity can be visualized after\n",
    "a simulation is using \n",
    "[CellResponse.plot_spikes_raster](https://jonescompneurolab.github.io/hnn-core/stable/generated/hnn_core.CellResponse.html#hnn_core.CellResponse.plot_spikes_raster):"
   ]
  },
  {
   "cell_type": "code",
   "execution_count": null,
   "metadata": {
    "collapsed": false,
    "jupyter": {
     "outputs_hidden": false
    }
   },
   "outputs": [],
   "source": [
    "dpl_erp = simulate_dipole(net_erp, tstop=170., n_trials=1)\n",
    "net_erp.cell_response.plot_spikes_raster(show=False)\n",
    "plt.show()"
   ]
  },
  {
   "cell_type": "markdown",
   "metadata": {},
   "source": [
    "We can also define our own connections to test the effect of different\n",
    "connectivity patterns. To start, ``net.clear_connectivity()`` can be used\n",
    "to clear all cell-to-cell connections. By default, previously defined drives\n",
    "to the network are retained, but can be removed with ``net.clear_drives()``.\n",
    "``net.add_connection`` is then used to create a custom network. Let us first\n",
    "create an all-to-all connectivity pattern between the L5 pyramidal cells,\n",
    "and L2 basket cells. \n",
    "[Network.add_connection](https://jonescompneurolab.github.io/hnn-core/stable/generated/hnn_core.Network.html#hnn_core.Network.add_connection)\n",
    "allows connections to be specified with either cell names, or the cell IDs (gids)\n",
    "directly."
   ]
  },
  {
   "cell_type": "code",
   "execution_count": null,
   "metadata": {
    "collapsed": false,
    "jupyter": {
     "outputs_hidden": false
    }
   },
   "outputs": [],
   "source": [
    "def get_network(probability=1.0):\n",
    "    net = jones_2009_model(add_drives_from_params=True)\n",
    "    net.clear_connectivity()\n",
    "\n",
    "    # Pyramidal cell connections\n",
    "    location, receptor = 'distal', 'ampa'\n",
    "    weight, delay, lamtha = 1.0, 1.0, 70\n",
    "    src = 'L5_pyramidal'\n",
    "    conn_seed = 3\n",
    "    for target in ['L5_pyramidal', 'L2_basket']:\n",
    "        net.add_connection(src, target, location, receptor,\n",
    "                           delay, weight, lamtha, probability=probability,\n",
    "                           conn_seed=conn_seed)\n",
    "\n",
    "    # Basket cell connections\n",
    "    location, receptor = 'soma', 'gabaa'\n",
    "    weight, delay, lamtha = 1.0, 1.0, 70\n",
    "    src = 'L2_basket'\n",
    "    for target in ['L5_pyramidal', 'L2_basket']:\n",
    "        net.add_connection(src, target, location, receptor,\n",
    "                           delay, weight, lamtha, probability=probability,\n",
    "                           conn_seed=conn_seed)\n",
    "    return net\n",
    "\n",
    "\n",
    "net_all = get_network()\n",
    "dpl_all = simulate_dipole(net_all, tstop=170., n_trials=1)"
   ]
  },
  {
   "cell_type": "markdown",
   "metadata": {},
   "source": [
    "We can additionally use the ``probability`` argument to create a sparse\n",
    "connectivity pattern instead of all-to-all. Let's try creating the same\n",
    "network with a 10% chance of cells connecting to each other.\n",
    "\n"
   ]
  },
  {
   "cell_type": "code",
   "execution_count": null,
   "metadata": {
    "collapsed": false,
    "jupyter": {
     "outputs_hidden": false
    }
   },
   "outputs": [],
   "source": [
    "net_sparse = get_network(probability=0.1)\n",
    "dpl_sparse = simulate_dipole(net_sparse, tstop=170., n_trials=1)"
   ]
  },
  {
   "cell_type": "markdown",
   "metadata": {},
   "source": [
    "With the previous connection pattern there appears to be synchronous rhythmic\n",
    "firing of the L5 pyramidal cells with a period of 10 ms. The synchronous\n",
    "activity is visible as vertical lines where several cells fire simultaneously\n",
    "Using the sparse connectivity pattern produced a lot more spiking in\n",
    "the L5 pyramidal cells.\n",
    "\n"
   ]
  },
  {
   "cell_type": "code",
   "execution_count": null,
   "metadata": {
    "collapsed": false,
    "jupyter": {
     "outputs_hidden": false
    }
   },
   "outputs": [],
   "source": [
    "net_all.cell_response.plot_spikes_raster(show=False)\n",
    "net_sparse.cell_response.plot_spikes_raster(show=False)\n",
    "plt.show()"
   ]
  },
  {
   "cell_type": "markdown",
   "metadata": {},
   "source": [
    "We can plot the sparse connectivity pattern between cell populations.\n",
    "\n"
   ]
  },
  {
   "cell_type": "code",
   "execution_count": null,
   "metadata": {
    "collapsed": false,
    "jupyter": {
     "outputs_hidden": false
    }
   },
   "outputs": [],
   "source": [
    "conn_indices = pick_connection(\n",
    "    net=net_sparse, src_gids='L2_basket', target_gids='L2_basket',\n",
    "    loc='soma', receptor='gabaa')\n",
    "\n",
    "conn_idx = conn_indices[0]\n",
    "plot_connectivity_matrix(net_sparse, conn_idx, show=False)\n",
    "plt.show()"
   ]
  },
  {
   "cell_type": "markdown",
   "metadata": {},
   "source": [
    "Note that the sparsity is in addition to the weight decay with distance\n",
    "from the source cell.\n",
    "\n"
   ]
  },
  {
   "cell_type": "code",
   "execution_count": null,
   "metadata": {
    "collapsed": false,
    "jupyter": {
     "outputs_hidden": false
    }
   },
   "outputs": [],
   "source": [
    "src_gid = net_sparse.connectivity[conn_idx]['src_gids'].copy().pop()\n",
    "plot_cell_connectivity(net_sparse, conn_idx, src_gid=src_gid, show=False)\n",
    "plt.show()"
   ]
  },
  {
   "cell_type": "markdown",
   "metadata": {},
   "source": [
    "In the sparse network, there still appears to be some rhythmicity\n",
    "where the cells are firing synchronously with a smaller period of 4-5 ms.\n",
    "As a final step, we can see how this change in spiking activity impacts\n",
    "the aggregate current dipole.\n",
    "\n"
   ]
  },
  {
   "cell_type": "code",
   "execution_count": null,
   "metadata": {
    "collapsed": false,
    "jupyter": {
     "outputs_hidden": false
    }
   },
   "outputs": [],
   "source": [
    "from hnn_core.viz import plot_dipole\n",
    "fig, axes = plt.subplots(2, 1, sharex=True, figsize=(6, 6),\n",
    "                         constrained_layout=True)\n",
    "\n",
    "window_len = 30  # ms\n",
    "scaling_factor = 3000\n",
    "dpls = [dpl_erp[0].smooth(window_len).scale(scaling_factor),\n",
    "        dpl_all[0].smooth(window_len).scale(scaling_factor),\n",
    "        dpl_sparse[0].smooth(window_len).scale(scaling_factor)]\n",
    "\n",
    "plot_dipole(dpls, ax=axes[0], layer='agg', show=False)\n",
    "axes[0].legend(['Default', 'Custom All', 'Custom Sparse'])\n",
    "net_erp.cell_response.plot_spikes_hist(\n",
    "    ax=axes[1], spike_types=['evprox', 'evdist'], show=False)\n",
    "plt.show()"
   ]
  }
 ],
 "metadata": {
  "kernelspec": {
   "display_name": "website-redesign-mpi",
   "language": "python",
   "name": "python3"
  },
  "language_info": {
   "codemirror_mode": {
    "name": "ipython",
    "version": 3
   },
   "file_extension": ".py",
   "mimetype": "text/x-python",
   "name": "python",
   "nbconvert_exporter": "python",
   "pygments_lexer": "ipython3",
   "version": "3.12.9"
  }
 },
 "nbformat": 4,
 "nbformat_minor": 4
}
